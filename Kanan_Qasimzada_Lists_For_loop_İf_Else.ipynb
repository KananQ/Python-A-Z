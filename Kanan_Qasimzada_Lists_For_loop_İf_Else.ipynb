{
  "nbformat": 4,
  "nbformat_minor": 0,
  "metadata": {
    "colab": {
      "provenance": []
    },
    "kernelspec": {
      "name": "python3",
      "display_name": "Python 3"
    },
    "language_info": {
      "name": "python"
    }
  },
  "cells": [
    {
      "cell_type": "markdown",
      "source": [
        "# Lists:For Loop and İf Else\n",
        "1. Write a Python program that takes three numbers as input and prints the largest number.\n",
        "\n",
        "2. Write a Python program that create a list of numbers and prints the sum of the elements.\n",
        "\n",
        "3. Write a Python program that create a list of integers and counts the number of even and odd numbers.\n",
        "\n",
        "\n",
        "4. Write a Python program that create a list of numbers (elements = [1, 2, 3, 4, 5])  and prints the reversed list in opposite of the elements in the original list.\n",
        "\n",
        "```\n",
        "Input:\n",
        "[1, 2, 3, 4, 5]\n",
        "Output:\n",
        "[-5, -4, -3, -2, -1]\n",
        "\n",
        "```\n",
        "\n",
        "5. Write a Python program that create a list of numbers and prints the average of the elements.\n",
        "\n",
        "```\n",
        "Input:\n",
        "[1, 2, 3, 4]\n",
        "Average of list elements: 2.5\n",
        "```\n",
        "\n",
        "6. Write a Python program that takes a string as input and counts the number of vowels.\n",
        "\n",
        "```\n",
        "Input:\n",
        "Saida\n",
        "Counts the number of vowels: 3\n",
        "```\n",
        "7. write python code that removes duplicate elements from the list element = [1, 2, 3, 3, 2].\n",
        "```\n",
        "Input:\n",
        "[1, 2, 3, 3, 2]\n",
        "Output:\n",
        "[1, 2, 3]\n",
        "```\n",
        "\n",
        "8. Write a Python program that create a list of numbers and takes a constant as input, and prints a new list where each element is multiplied by the constant..\n",
        "```\n",
        "Input list elements:\n",
        "[1, 2, 3, 3, 2]\n",
        "Constant elements:\n",
        "2\n",
        "Output list:\n",
        "[2, 4, 6, 6, 4]\n",
        "```\n",
        "\n",
        "9. Write a Python program that create a list of numbers and prints only the even numbers.\n"
      ],
      "metadata": {
        "id": "hdSFVbFZMhQN"
      }
    },
    {
      "cell_type": "code",
      "source": [
        "#TASK1 Write a Python program that takes three numbers as input and prints the largest number.\n",
        "n = int(input(\"Enter size of list:\"))\n",
        "list1 = []\n",
        "\n",
        "for i in range(0,n):\n",
        "  x = int(input())\n",
        "  list1.append(x)\n",
        "\n",
        "list1.sort()\n",
        "\n",
        "max_number1 = 0\n",
        "t = 1\n",
        "\n",
        "for i in range(0,n):\n",
        "  max_number1 += list1[i]*t\n",
        "  t *= 10\n",
        "\n",
        "print(max_number1)"
      ],
      "metadata": {
        "id": "WMLoSXOIbLcc",
        "colab": {
          "base_uri": "https://localhost:8080/"
        },
        "outputId": "510908c3-3644-4b6c-8273-01a190532585"
      },
      "execution_count": 7,
      "outputs": [
        {
          "output_type": "stream",
          "name": "stdout",
          "text": [
            "Enter size of list:5\n",
            "3\n",
            "5\n",
            "9\n",
            "1\n",
            "2\n",
            "95321\n"
          ]
        }
      ]
    },
    {
      "cell_type": "code",
      "source": [
        "#TASK2 Write a Python program that create a list of numbers and prints the sum of the elements.\n",
        "n = int(input(\"Enter size of list:\"))\n",
        "list1 = []\n",
        "\n",
        "for i in range(0,n):\n",
        "  x = int(input())\n",
        "  list1.append(x)\n",
        "\n",
        "sum = 0\n",
        "\n",
        "for i in range(0,n):\n",
        "  sum += list1[i]\n",
        "  list1[i] = sum\n",
        "\n",
        "print(list1)"
      ],
      "metadata": {
        "colab": {
          "base_uri": "https://localhost:8080/"
        },
        "id": "aOkhwg7H3GfK",
        "outputId": "892ad1b9-731c-424f-8ada-ef1dfc316e70"
      },
      "execution_count": 9,
      "outputs": [
        {
          "output_type": "stream",
          "name": "stdout",
          "text": [
            "Enter size of list:4\n",
            "3 \n",
            "1\n",
            "2\n",
            "5\n",
            "[3, 4, 6, 11]\n"
          ]
        }
      ]
    },
    {
      "cell_type": "code",
      "source": [
        "\n",
        "#TASK3 Write a Python program that create a list of integers and counts the number of even and odd numbers.\n",
        "n = int(input(\"Enter size of list:\"))\n",
        "list1 = []\n",
        "\n",
        "for i in range(0,n):\n",
        "  x = int(input())\n",
        "  list1.append(x)\n",
        "\n",
        "even_count = 0\n",
        "odd_count = 0\n",
        "\n",
        "for i in range(0,n):\n",
        "  if list1[i] % 2 == 0:\n",
        "    even_count += 1\n",
        "  else:\n",
        "    odd_count += 1\n",
        "\n",
        "print(f'count of even numbers:{even_count} \\n count of odd numbers:{odd_count}')\n"
      ],
      "metadata": {
        "colab": {
          "base_uri": "https://localhost:8080/"
        },
        "id": "NXVdbGbu3o3o",
        "outputId": "35cde089-9d75-4f48-82a9-abc7b5b0e569"
      },
      "execution_count": 47,
      "outputs": [
        {
          "output_type": "stream",
          "name": "stdout",
          "text": [
            "Enter size of list:5\n",
            "2 \n",
            "4\n",
            "6\n",
            "0\n",
            "1\n",
            "count of even numbers:4 \n",
            " count of odd numbers:1\n"
          ]
        }
      ]
    },
    {
      "cell_type": "code",
      "source": [
        "#TASK4 Write a Python program that create a list of numbers (elements = [1, 2, 3, 4, 5]) and prints the reversed list in opposite of the elements in the original list\n",
        "n = int(input(\"Enter size of list:\"))\n",
        "list1 = []\n",
        "\n",
        "for i in range(0,n):\n",
        "  x = int(input())\n",
        "  list1.append(x)\n",
        "\n",
        "list1 = [i * (-1) for i in list1]\n",
        "print(list1[::-1])\n"
      ],
      "metadata": {
        "colab": {
          "base_uri": "https://localhost:8080/"
        },
        "id": "zVX5Mc7-DSY6",
        "outputId": "55646f7b-0b9b-4e33-d9ce-65982ca53f2e"
      },
      "execution_count": 59,
      "outputs": [
        {
          "output_type": "stream",
          "name": "stdout",
          "text": [
            "Enter size of list:4\n",
            "1 \n",
            "2\n",
            "3\n",
            "4\n",
            "[-4, -3, -2, -1]\n"
          ]
        }
      ]
    },
    {
      "cell_type": "code",
      "source": [
        "#TASK5 Write a Python program that create a list of numbers and prints the average of the elements.\n",
        "n = int(input(\"Enter size of list:\"))\n",
        "list1 = []\n",
        "\n",
        "for i in range(0,n):\n",
        "  x = int(input())\n",
        "  list1.append(x)\n",
        "\n",
        "sum = 0\n",
        "\n",
        "for i in range(0,n):\n",
        "  sum += list1[i]\n",
        "\n",
        "average = sum / n\n",
        "print(\"Average of numebr:\",average)"
      ],
      "metadata": {
        "colab": {
          "base_uri": "https://localhost:8080/"
        },
        "id": "5qGvkvuR4v8o",
        "outputId": "9d2cdc5b-a7b9-413a-fdc2-46e30d185b65"
      },
      "execution_count": 48,
      "outputs": [
        {
          "output_type": "stream",
          "name": "stdout",
          "text": [
            "Enter size of list:5\n",
            "1\n",
            "2\n",
            "3\n",
            "4\n",
            "5\n",
            "Average of numebr: 3.0\n"
          ]
        }
      ]
    },
    {
      "cell_type": "code",
      "source": [
        "#TASK6 Write a Python program that takes a string as input and counts the number of vowels.\n",
        "\n",
        "name = str(input())\n",
        "count1 = 0\n",
        "\n",
        "for i in name:\n",
        "    if i in (\"a\", \"e\", \"i\", \"o\", \"u\", \"A\", \"E\", \"I\", \"O\", \"U\"):\n",
        "        count1 += 1\n",
        "\n",
        "print(count1)"
      ],
      "metadata": {
        "colab": {
          "base_uri": "https://localhost:8080/"
        },
        "id": "mT_qvEv25anJ",
        "outputId": "e36545a9-8c08-449d-b7af-0e6d4bf43301"
      },
      "execution_count": 49,
      "outputs": [
        {
          "output_type": "stream",
          "name": "stdout",
          "text": [
            "asdfi\n",
            "2\n"
          ]
        }
      ]
    },
    {
      "cell_type": "code",
      "source": [
        "#TASK7 write python code that removes duplicate elements from the list element = [1, 2, 3, 3, 2].\n",
        "n = int(input(\"Enter size of list:\"))\n",
        "list1 = []\n",
        "\n",
        "for i in range(0,n):\n",
        "    x = int(input())\n",
        "    list1.append(x)\n",
        "\n",
        "list1.sort()\n",
        "\n",
        "i = 0\n",
        "\n",
        "while i < len(list1) - 1:\n",
        "    if list1[i] == list1[i + 1]:\n",
        "        list1.pop(i + 1)\n",
        "    else:\n",
        "        i += 1\n",
        "\n",
        "print(list1)\n"
      ],
      "metadata": {
        "colab": {
          "base_uri": "https://localhost:8080/"
        },
        "id": "GrbqTzUV7Udm",
        "outputId": "05501a42-6c7f-41b0-d2e0-121c841cb2b8"
      },
      "execution_count": 60,
      "outputs": [
        {
          "output_type": "stream",
          "name": "stdout",
          "text": [
            "Enter size of list:3\n",
            "5\n",
            "5\n",
            "5\n",
            "[5]\n"
          ]
        }
      ]
    },
    {
      "cell_type": "code",
      "source": [
        "#TASK8 Write a Python program that create a list of numbers and takes a constant as input, and prints a new list where each element is multiplied by the constant.\n",
        "n = int(input(\"Enter size of list:\"))\n",
        "list1 = []\n",
        "\n",
        "for i in range(0,n):\n",
        "    x = int(input())\n",
        "    list1.append(x)\n",
        "\n",
        "c_n = int(input(\"Enter const number:\"))\n",
        "\n",
        "list1 = [i * c_n for i in list1 ]\n",
        "print(list1)"
      ],
      "metadata": {
        "colab": {
          "base_uri": "https://localhost:8080/"
        },
        "id": "V95j0kiX9L1c",
        "outputId": "e7717e4c-9c10-47aa-ce67-d06ed6000bea"
      },
      "execution_count": 35,
      "outputs": [
        {
          "output_type": "stream",
          "name": "stdout",
          "text": [
            "Enter size of list:4\n",
            "4\n",
            "2\n",
            "1\n",
            "5\n",
            "Enter const number:5\n",
            "[20, 10, 5, 25]\n"
          ]
        }
      ]
    },
    {
      "cell_type": "code",
      "source": [
        "n = int(input(\"Enter size of list: \"))\n",
        "list1 = []\n",
        "\n",
        "for i in range(0,n):\n",
        "    x = int(input())\n",
        "    list1.append(x)\n",
        "\n",
        "count1 = 0\n",
        "i = 0\n",
        "\n",
        "while i < len(list1):\n",
        "    if list1[i] % 2 == 0:\n",
        "        count1 += 1\n",
        "        print(f\"Even number {count1}: {list1[i]}\")\n",
        "        i += 1\n",
        "    else:\n",
        "        list1.pop(i)\n",
        "\n",
        "print(\"Even list:\", list1)"
      ],
      "metadata": {
        "colab": {
          "base_uri": "https://localhost:8080/"
        },
        "id": "CtDhcBbR9s_n",
        "outputId": "d87055a7-7ee0-4140-f0df-4f2df7067b64"
      },
      "execution_count": 58,
      "outputs": [
        {
          "output_type": "stream",
          "name": "stdout",
          "text": [
            "Enter size of list: 5\n",
            "2\n",
            "3\n",
            "4\n",
            "1\n",
            "6\n",
            "Even number 1: 2\n",
            "Even number 2: 4\n",
            "Even number 3: 6\n",
            "Even list: [2, 4, 6]\n"
          ]
        }
      ]
    }
  ]
}