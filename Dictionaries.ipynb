{
  "nbformat": 4,
  "nbformat_minor": 0,
  "metadata": {
    "colab": {
      "provenance": []
    },
    "kernelspec": {
      "name": "python3",
      "display_name": "Python 3"
    },
    "language_info": {
      "name": "python"
    }
  },
  "cells": [
    {
      "cell_type": "code",
      "execution_count": 2,
      "metadata": {
        "colab": {
          "base_uri": "https://localhost:8080/"
        },
        "id": "JCwZGFCjris4",
        "outputId": "660b9647-0723-42bd-fbbf-cb2f2e4e534e"
      },
      "outputs": [
        {
          "output_type": "stream",
          "name": "stdout",
          "text": [
            "Ford\n"
          ]
        }
      ],
      "source": [
        "ex_dict = {\n",
        "    \"brand\" : \"Ford\",\n",
        "    \"model\" : \"Mustang\",\n",
        "    \"year\" : 1964\n",
        "}\n",
        "print(ex_dict[\"brand\"])"
      ]
    },
    {
      "cell_type": "code",
      "source": [
        "ex_dict = {\n",
        "    \"brand\" : \"Ford\",\n",
        "    \"model\" : \"Mustang\",\n",
        "    \"year\" : 1964 ,\n",
        "    \"year\" : 1920\n",
        "}\n",
        "ex_dict[0]\n"
      ],
      "metadata": {
        "colab": {
          "base_uri": "https://localhost:8080/"
        },
        "id": "kn0-todIr8On",
        "outputId": "7b85b8e6-5959-439c-aa5c-7c5363254d93"
      },
      "execution_count": 5,
      "outputs": [
        {
          "output_type": "stream",
          "name": "stdout",
          "text": [
            "{'brand': 'Ford', 'model': 'Mustang', 'year': 1920}\n"
          ]
        }
      ]
    },
    {
      "cell_type": "code",
      "source": [
        "ex_dict[0]"
      ],
      "metadata": {
        "colab": {
          "base_uri": "https://localhost:8080/",
          "height": 141
        },
        "id": "Pll-mfgdF0G5",
        "outputId": "b46061dd-01b7-416e-d34b-e7c3157a6cd2"
      },
      "execution_count": 12,
      "outputs": [
        {
          "output_type": "error",
          "ename": "KeyError",
          "evalue": "0",
          "traceback": [
            "\u001b[0;31m---------------------------------------------------------------------------\u001b[0m",
            "\u001b[0;31mKeyError\u001b[0m                                  Traceback (most recent call last)",
            "\u001b[0;32m<ipython-input-12-5d09dfae2a23>\u001b[0m in \u001b[0;36m<cell line: 1>\u001b[0;34m()\u001b[0m\n\u001b[0;32m----> 1\u001b[0;31m \u001b[0mex_dict\u001b[0m\u001b[0;34m[\u001b[0m\u001b[0;36m0\u001b[0m\u001b[0;34m]\u001b[0m\u001b[0;34m\u001b[0m\u001b[0;34m\u001b[0m\u001b[0m\n\u001b[0m",
            "\u001b[0;31mKeyError\u001b[0m: 0"
          ]
        }
      ]
    },
    {
      "cell_type": "code",
      "source": [
        "print(len(ex_dict))"
      ],
      "metadata": {
        "colab": {
          "base_uri": "https://localhost:8080/"
        },
        "id": "8Cc49Kj_sjh-",
        "outputId": "49cf9f13-717f-4dba-f105-f1f2974b69f4"
      },
      "execution_count": 6,
      "outputs": [
        {
          "output_type": "stream",
          "name": "stdout",
          "text": [
            "3\n"
          ]
        }
      ]
    },
    {
      "cell_type": "code",
      "source": [
        "#All data typeso\n",
        "ex_dict = {\n",
        "    \"brand\" : \"Ford\",\n",
        "    \"electric\" : \"Mustang\" ,\n",
        "    \"year\" : 1964,\n",
        "    \"new\" : False\n",
        "}"
      ],
      "metadata": {
        "id": "0kz4N2RvtFYF"
      },
      "execution_count": null,
      "outputs": []
    },
    {
      "cell_type": "code",
      "source": [
        "x = ex_dict.values()\n",
        "y = ex_dict.keys()\n",
        "# Keep data list in tuple\n",
        "z = ex_dict.items()\n",
        "print(x)\n",
        "print(y)\n",
        "print(z)"
      ],
      "metadata": {
        "colab": {
          "base_uri": "https://localhost:8080/"
        },
        "id": "CSLK1wnevzKk",
        "outputId": "72e63af8-744a-431c-964d-74084e72548e"
      },
      "execution_count": 9,
      "outputs": [
        {
          "output_type": "stream",
          "name": "stdout",
          "text": [
            "dict_values(['Ford', 'Mustang', 1920])\n",
            "dict_keys(['brand', 'model', 'year'])\n",
            "dict_items([('brand', 'Ford'), ('model', 'Mustang'), ('year', 1920)])\n"
          ]
        }
      ]
    },
    {
      "cell_type": "code",
      "source": [
        "child10 = {\n",
        "    \"name\" : \"Emil\",\n",
        "    \"year\" : 20\n",
        "}\n",
        "\n",
        "child20 = {\n",
        "    \"name\" : \"Linus\",\n",
        "    \"year\" : 35\n",
        "}"
      ],
      "metadata": {
        "id": "7UXov_2CxOgF"
      },
      "execution_count": 11,
      "outputs": []
    },
    {
      "cell_type": "code",
      "source": [
        "glossary = {\n",
        "    'Variable' : 'A container for storing data values.' ,\n",
        "    'String' : 'A sequence of characters' ,\n",
        "    'List' : ' An ordered collection of items.' ,\n",
        "    'Dictionary' : 'A collection of key-value pairs' ,\n",
        "    'Function' : 'A block of code that performs a specific task.'\n",
        "}\n",
        "\n",
        "\n",
        "for i,j in glossary.items():\n",
        "  print(f'Key: {i}')\n",
        "  print(f'\\t Value: {j}')"
      ],
      "metadata": {
        "colab": {
          "base_uri": "https://localhost:8080/"
        },
        "id": "cvQ9CZVXxPFQ",
        "outputId": "67364244-53b1-4b8e-f7ee-ff0dd44e1cc8"
      },
      "execution_count": 13,
      "outputs": [
        {
          "output_type": "stream",
          "name": "stdout",
          "text": [
            "Key: Variable\n",
            "\t Value: A container for storing data values.\n",
            "Key: String\n",
            "\t Value: A sequence of characters\n",
            "Key: List\n",
            "\t Value:  An ordered collection of items.\n",
            "Key: Dictionary\n",
            "\t Value: A collection of key-value pairs\n",
            "Key: Function\n",
            "\t Value: A block of code that performs a specific task.\n"
          ]
        }
      ]
    },
    {
      "cell_type": "code",
      "source": [],
      "metadata": {
        "id": "S7cNMSqnxPeq"
      },
      "execution_count": null,
      "outputs": []
    },
    {
      "cell_type": "code",
      "source": [],
      "metadata": {
        "id": "z1jAT7g_xP5x"
      },
      "execution_count": null,
      "outputs": []
    }
  ]
}