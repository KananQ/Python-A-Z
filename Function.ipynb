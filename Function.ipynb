{
  "nbformat": 4,
  "nbformat_minor": 0,
  "metadata": {
    "colab": {
      "provenance": []
    },
    "kernelspec": {
      "name": "python3",
      "display_name": "Python 3"
    },
    "language_info": {
      "name": "python"
    }
  },
  "cells": [
    {
      "cell_type": "code",
      "execution_count": 1,
      "metadata": {
        "colab": {
          "base_uri": "https://localhost:8080/"
        },
        "id": "NSOgmFOawqO2",
        "outputId": "15ffed15-b21d-4604-fc6d-294f3a0c1dcc"
      },
      "outputs": [
        {
          "output_type": "stream",
          "name": "stdout",
          "text": [
            "Hello\n"
          ]
        }
      ],
      "source": [
        "def greet_user():\n",
        "  \"\"\"Display a simple greeting.\"\"\"\n",
        "  print(\"Hello\")\n",
        "\n",
        "greet_user()"
      ]
    },
    {
      "cell_type": "code",
      "source": [
        "def greet_user1(username):\n",
        "  \"\"\"Display a simple greeting\"\"\"\n",
        "  print(f\"Hello, {username.title()}\")\n",
        "  print(f\"Hello,again {username.title()}\")\n",
        "\n",
        "greet_user1(\"Kanan\")"
      ],
      "metadata": {
        "colab": {
          "base_uri": "https://localhost:8080/"
        },
        "id": "iZO9ZTz1xqYh",
        "outputId": "23e0dc02-9035-4ea4-bac0-ad73ac541e44"
      },
      "execution_count": 6,
      "outputs": [
        {
          "output_type": "stream",
          "name": "stdout",
          "text": [
            "Hello, Kanan\n",
            "Hello,again Kanan\n"
          ]
        }
      ]
    },
    {
      "cell_type": "code",
      "source": [
        "def describe_pet(a_t,p_name):\n",
        "  \"\"\"Display a simple greeting\"\"\"\n",
        "  print(f\"\\nI have a {a_t}\")\n",
        "  print(f\"My {a_t} name is {p_name.title()}\")\n",
        "\n",
        "describe_pet('a','b')\n",
        "describe_pet(a_t = \"Dog\" , p_name = \"Toplan\")\n"
      ],
      "metadata": {
        "colab": {
          "base_uri": "https://localhost:8080/"
        },
        "id": "4JkrNMsUy576",
        "outputId": "5b23ee0f-75d0-41ab-ec96-5d1ff5bd0ede"
      },
      "execution_count": 9,
      "outputs": [
        {
          "output_type": "stream",
          "name": "stdout",
          "text": [
            "\n",
            "I have a a\n",
            "My a name is B\n",
            "\n",
            "I have a Dog\n",
            "My Dog name is Toplan\n"
          ]
        }
      ]
    },
    {
      "cell_type": "code",
      "source": [
        "def describe_pet(pet_name, animal_type = 'dog'):\n",
        "  \"\"\"Display information about a pet\"\"\"\n",
        "  print(f\"\\nI have a {pet_name}\")\n",
        "  print(f\"My {animal_type}'s name is {pet_name.title()}.\")\n",
        "\n",
        "animal_type = input(\"Pet name: \")\n",
        "animal_name = input(\"Pet type: \")\n",
        "\n",
        "describe_pet(animal_name, animal_type)"
      ],
      "metadata": {
        "colab": {
          "base_uri": "https://localhost:8080/"
        },
        "id": "xgyPwv0G2Lgu",
        "outputId": "bf2e0ef6-78d7-4699-8b33-3cfd8d949474"
      },
      "execution_count": 10,
      "outputs": [
        {
          "output_type": "stream",
          "name": "stdout",
          "text": [
            "Pet name: Cesi\n",
            "Pet type: Cat\n",
            "\n",
            "I have a Cat\n",
            "My Cesi's name is Cat.\n"
          ]
        }
      ]
    },
    {
      "cell_type": "code",
      "source": [
        "def formatted_name(first_name, last_name):\n",
        "  \"\"\"Return a full name, neatly formatted.\"\"\"\n",
        "\n",
        "  full_name = f\"{first_name} {last_name}\"\n",
        "  return full_name.title()\n",
        "\n",
        "m = formatted_name('Kanan', 'Qasimzada')\n",
        "print(m)"
      ],
      "metadata": {
        "colab": {
          "base_uri": "https://localhost:8080/"
        },
        "id": "GipuEwDH_af0",
        "outputId": "69672c75-aecf-4371-938f-121022e7c0bd"
      },
      "execution_count": 11,
      "outputs": [
        {
          "output_type": "stream",
          "name": "stdout",
          "text": [
            "Kanan Qasimzada\n"
          ]
        }
      ]
    },
    {
      "cell_type": "code",
      "source": [
        "#How will i find answer without if and else\n",
        "def cal(a,b,o):\n",
        "  answer = f\"{int(a)} {o} {int(b)}\"\n",
        "  return answer\n",
        "cal(1, 2, '+')"
      ],
      "metadata": {
        "colab": {
          "base_uri": "https://localhost:8080/",
          "height": 35
        },
        "id": "d4VmhVZ8BI9k",
        "outputId": "5331d545-3259-4614-bfc2-9825a696e870"
      },
      "execution_count": 12,
      "outputs": [
        {
          "output_type": "execute_result",
          "data": {
            "text/plain": [
              "'1 + 2'"
            ],
            "application/vnd.google.colaboratory.intrinsic+json": {
              "type": "string"
            }
          },
          "metadata": {},
          "execution_count": 12
        }
      ]
    },
    {
      "cell_type": "code",
      "source": [
        "def append_function(k):\n",
        "  new_list = []\n",
        "  while k:\n",
        "    k1 = k.pop()\n",
        "    new_list.append(k1)\n",
        "\n",
        "  return new_list\n",
        "\n",
        "\n",
        "list1 = [1,2,3,4,5,6]\n",
        "append_function(list1)\n",
        "\n"
      ],
      "metadata": {
        "colab": {
          "base_uri": "https://localhost:8080/"
        },
        "id": "yhSxP54WE2jN",
        "outputId": "150c736a-2c30-4eb7-e7bc-562666eaf1eb"
      },
      "execution_count": 15,
      "outputs": [
        {
          "output_type": "execute_result",
          "data": {
            "text/plain": [
              "[6, 5, 4, 3, 2, 1]"
            ]
          },
          "metadata": {},
          "execution_count": 15
        }
      ]
    },
    {
      "cell_type": "code",
      "source": [
        "my_list = [1,2,3,4,5]\n",
        "my_list[-4:1]\n",
        "print(my_list)"
      ],
      "metadata": {
        "colab": {
          "base_uri": "https://localhost:8080/"
        },
        "id": "lSrgurdCIasU",
        "outputId": "43b1b8c2-4c1e-42ca-c72d-9a0b9366d58b"
      },
      "execution_count": 18,
      "outputs": [
        {
          "output_type": "stream",
          "name": "stdout",
          "text": [
            "[1, 2, 3, 4, 5]\n"
          ]
        }
      ]
    },
    {
      "cell_type": "code",
      "source": [
        "x= 10\n",
        "print(\"Even\" if x%2==0 else \"odd\")"
      ],
      "metadata": {
        "colab": {
          "base_uri": "https://localhost:8080/"
        },
        "id": "GhFbA7MmIv-w",
        "outputId": "cb2c1b1c-d5da-4223-a7c0-49da8ec7dae8"
      },
      "execution_count": 17,
      "outputs": [
        {
          "output_type": "stream",
          "name": "stdout",
          "text": [
            "Even\n"
          ]
        }
      ]
    },
    {
      "cell_type": "code",
      "source": [
        "a = int()\n",
        "def sq(a):\n",
        "  return a ** 2\n",
        "\n",
        "b = int(input())\n",
        "print(sq(b))\n"
      ],
      "metadata": {
        "colab": {
          "base_uri": "https://localhost:8080/"
        },
        "id": "IICzq-XfLNjr",
        "outputId": "60dd9edb-6837-43ad-841a-e78651bec90e"
      },
      "execution_count": 24,
      "outputs": [
        {
          "output_type": "stream",
          "name": "stdout",
          "text": [
            "4\n",
            "16\n"
          ]
        }
      ]
    },
    {
      "cell_type": "code",
      "source": [
        "def e_o(c):\n",
        "  if c % 2 == 0:\n",
        "    print(\"Even\")\n",
        "  else:\n",
        "    print(\"Odd\")\n",
        "\n",
        "d = int(input())\n",
        "print(e_o(d))\n"
      ],
      "metadata": {
        "colab": {
          "base_uri": "https://localhost:8080/"
        },
        "id": "93nlLJqnOHWq",
        "outputId": "fa6f7b6f-cc30-41ec-d4cf-c26152f24c79"
      },
      "execution_count": 27,
      "outputs": [
        {
          "output_type": "stream",
          "name": "stdout",
          "text": [
            "4\n",
            "Even\n",
            "None\n"
          ]
        }
      ]
    }
  ]
}