{
  "nbformat": 4,
  "nbformat_minor": 0,
  "metadata": {
    "colab": {
      "provenance": []
    },
    "kernelspec": {
      "name": "python3",
      "display_name": "Python 3"
    },
    "language_info": {
      "name": "python"
    }
  },
  "cells": [
    {
      "cell_type": "code",
      "execution_count": 7,
      "metadata": {
        "colab": {
          "base_uri": "https://localhost:8080/"
        },
        "id": "scyU2McE2J-e",
        "outputId": "b3921bdd-067c-4206-fe6f-e5635dc00802"
      },
      "outputs": [
        {
          "output_type": "stream",
          "name": "stdout",
          "text": [
            "{'name': 'Kanan', 'surname': 'Qasimzada', 'age': 19}\n",
            "{'name': 'Sanan', 'surname': 'Qasimzada', 'age': 19}\n",
            "{'name': 'Sanan', 'surname': 'Qasimzada', 'age': 19, 'salary': 4500}\n",
            "('salary', 4500)\n"
          ]
        }
      ],
      "source": [
        "person = dict(name = 'Kanan' , surname = 'Qasimzada' , age = 19)\n",
        "print(person)\n",
        "person.get('Kanan',4)\n",
        "person.update({'name' : 'Sanan'})\n",
        "print(person)\n",
        "person.update({'salary' : 4500})\n",
        "print(person)\n",
        "print(person.popitem())"
      ]
    },
    {
      "cell_type": "code",
      "source": [
        "#Loop\n",
        "\n",
        "for i , j in person.items():\n",
        "  print(i)\n",
        "  print(j)\n",
        "\n"
      ],
      "metadata": {
        "colab": {
          "base_uri": "https://localhost:8080/"
        },
        "id": "VR5-fIqw9OLN",
        "outputId": "0e80947f-a91f-43a5-fbda-c8b2baab2ccc"
      },
      "execution_count": 10,
      "outputs": [
        {
          "output_type": "stream",
          "name": "stdout",
          "text": [
            "name\n",
            "Sanan\n",
            "surname\n",
            "Qasimzada\n",
            "age\n",
            "19\n"
          ]
        }
      ]
    },
    {
      "cell_type": "code",
      "source": [
        "#copy model\n",
        "person1 = person\n",
        "print(person1)\n",
        "person.update({'car' : True})\n",
        "print(person1)\n",
        "\n",
        "person2 = person1.copy()\n",
        "\n",
        "print(id(person1))\n",
        "print(id(person))\n",
        "print(id(person2))\n"
      ],
      "metadata": {
        "colab": {
          "base_uri": "https://localhost:8080/"
        },
        "id": "L8b6HQ-I-Wl_",
        "outputId": "439c5985-4e2a-4502-85bc-491c25079e36"
      },
      "execution_count": 14,
      "outputs": [
        {
          "output_type": "stream",
          "name": "stdout",
          "text": [
            "{'name': 'Sanan', 'surname': 'Qasimzada', 'age': 19, 'car': True}\n",
            "{'name': 'Sanan', 'surname': 'Qasimzada', 'age': 19, 'car': True}\n",
            "137704532355840\n",
            "137704532355840\n",
            "137704155953536\n"
          ]
        }
      ]
    },
    {
      "cell_type": "code",
      "source": [
        "#nested dictionaries\n",
        "child1 = {\n",
        "  \"name\" : \"Emil\",\n",
        "  \"year\" : 2004\n",
        "}\n",
        "child2 = {\n",
        "  \"name\" : \"Tobias\",\n",
        "  \"year\" : 2007\n",
        "}\n",
        "child3 = {\n",
        "  \"name\" : \"Linus\",\n",
        "  \"year\" : 2011\n",
        "}\n",
        "\n",
        "myfamily = {\n",
        "  \"child1\" : child1,\n",
        "  \"child2\" : child2,\n",
        "  \"child3\" : child3\n",
        "}\n",
        "print(myfamily)"
      ],
      "metadata": {
        "colab": {
          "base_uri": "https://localhost:8080/"
        },
        "id": "_OskZdpc_kpK",
        "outputId": "06d83381-bf36-432e-dc08-e87fe0f55635"
      },
      "execution_count": 15,
      "outputs": [
        {
          "output_type": "stream",
          "name": "stdout",
          "text": [
            "{'child1': {'name': 'Emil', 'year': 2004}, 'child2': {'name': 'Tobias', 'year': 2007}, 'child3': {'name': 'Linus', 'year': 2011}}\n"
          ]
        }
      ]
    },
    {
      "cell_type": "code",
      "source": [
        "#Loop Through Nested Dictionaries\n",
        "\n",
        "for i , j in myfamily.items():\n",
        "  print(i)"
      ],
      "metadata": {
        "colab": {
          "base_uri": "https://localhost:8080/"
        },
        "id": "OcBH3HL_BoFm",
        "outputId": "6e02550c-53bb-448d-8f75-c1f75df9039d"
      },
      "execution_count": 18,
      "outputs": [
        {
          "output_type": "stream",
          "name": "stdout",
          "text": [
            "child1\n",
            "child2\n",
            "child3\n"
          ]
        }
      ]
    },
    {
      "cell_type": "code",
      "source": [
        "for i , obj in myfamily.items():\n",
        "  for k,l in obj.items():\n",
        "    print(k)\n",
        "    print(l)"
      ],
      "metadata": {
        "colab": {
          "base_uri": "https://localhost:8080/"
        },
        "id": "yKz6nHWYB8Cw",
        "outputId": "c2c1106b-8442-4658-ee8f-c3cb6dfdf881"
      },
      "execution_count": 25,
      "outputs": [
        {
          "output_type": "stream",
          "name": "stdout",
          "text": [
            "name\n",
            "Emil\n",
            "year\n",
            "2004\n",
            "name\n",
            "Tobias\n",
            "year\n",
            "2007\n",
            "name\n",
            "Linus\n",
            "year\n",
            "2011\n"
          ]
        }
      ]
    },
    {
      "cell_type": "code",
      "source": [
        "users = {\n",
        "  'aeinstein': {\n",
        "      'first': 'albert',\n",
        "      'last': 'einstein',\n",
        "      'location': 'princeton',\n",
        "      },\n",
        "\n",
        "  'mcurie': {\n",
        "      'first': 'marie',\n",
        "      'last': 'curie',\n",
        "      'location': 'paris',\n",
        "      },\n",
        "\n",
        "  }\n",
        "\n",
        "for username , userinfo in users.items():\n",
        "  print(f\"Username:{username}\")\n",
        "  print(f\"Fullname:{userinfo['first']} {userinfo['last']}\")\n",
        "\n",
        "\n"
      ],
      "metadata": {
        "colab": {
          "base_uri": "https://localhost:8080/",
          "height": 245
        },
        "id": "nuWIeBgsB-DF",
        "outputId": "a46e71c8-9e49-4f29-e423-ffb395ebe040"
      },
      "execution_count": 27,
      "outputs": [
        {
          "output_type": "stream",
          "name": "stdout",
          "text": [
            "Username:aeinstein\n",
            "Fullname:albert einstein\n"
          ]
        },
        {
          "output_type": "error",
          "ename": "NameError",
          "evalue": "name 'user_info' is not defined",
          "traceback": [
            "\u001b[0;31m---------------------------------------------------------------------------\u001b[0m",
            "\u001b[0;31mNameError\u001b[0m                                 Traceback (most recent call last)",
            "\u001b[0;32m<ipython-input-27-dd63ecbe476f>\u001b[0m in \u001b[0;36m<cell line: 16>\u001b[0;34m()\u001b[0m\n\u001b[1;32m     18\u001b[0m   \u001b[0mprint\u001b[0m\u001b[0;34m(\u001b[0m\u001b[0;34mf\"Fullname:{userinfo['first']} {userinfo['last']}\"\u001b[0m\u001b[0;34m)\u001b[0m\u001b[0;34m\u001b[0m\u001b[0;34m\u001b[0m\u001b[0m\n\u001b[1;32m     19\u001b[0m \u001b[0;34m\u001b[0m\u001b[0m\n\u001b[0;32m---> 20\u001b[0;31m   \u001b[0mlocation\u001b[0m \u001b[0;34m=\u001b[0m \u001b[0muser_info\u001b[0m\u001b[0;34m[\u001b[0m\u001b[0;34m'location'\u001b[0m\u001b[0;34m]\u001b[0m\u001b[0;34m\u001b[0m\u001b[0;34m\u001b[0m\u001b[0m\n\u001b[0m\u001b[1;32m     21\u001b[0m \u001b[0;34m\u001b[0m\u001b[0m\n\u001b[1;32m     22\u001b[0m   \u001b[0mprint\u001b[0m\u001b[0;34m(\u001b[0m\u001b[0;34mf\"\\tFull name: {full_name.title()}\"\u001b[0m\u001b[0;34m)\u001b[0m\u001b[0;34m\u001b[0m\u001b[0;34m\u001b[0m\u001b[0m\n",
            "\u001b[0;31mNameError\u001b[0m: name 'user_info' is not defined"
          ]
        }
      ]
    }
  ]
}