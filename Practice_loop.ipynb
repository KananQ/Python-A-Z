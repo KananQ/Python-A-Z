{
  "nbformat": 4,
  "nbformat_minor": 0,
  "metadata": {
    "colab": {
      "provenance": []
    },
    "kernelspec": {
      "name": "python3",
      "display_name": "Python 3"
    },
    "language_info": {
      "name": "python"
    }
  },
  "cells": [
    {
      "cell_type": "code",
      "execution_count": 2,
      "metadata": {
        "colab": {
          "base_uri": "https://localhost:8080/"
        },
        "id": "AnAcfl8aGxvM",
        "outputId": "699fcfb9-675e-4551-95e7-fd75bf13aa1f"
      },
      "outputs": [
        {
          "output_type": "stream",
          "name": "stdout",
          "text": [
            "a b c d e r t y u "
          ]
        }
      ],
      "source": [
        "letters = ['a','b','c','d','e','r','t','y','u']\n",
        "\n",
        "for i in letters:\n",
        "  print(i,end = ' ')"
      ]
    },
    {
      "cell_type": "code",
      "source": [
        "#title function\n",
        "print(letters[0].title())"
      ],
      "metadata": {
        "colab": {
          "base_uri": "https://localhost:8080/"
        },
        "id": "KTCyB5W5HeQJ",
        "outputId": "61002886-fe17-4bda-f31e-f58d57641914"
      },
      "execution_count": 3,
      "outputs": [
        {
          "output_type": "stream",
          "name": "stdout",
          "text": [
            "A\n"
          ]
        }
      ]
    },
    {
      "cell_type": "code",
      "source": [
        "#f string method in python\n",
        "\n",
        "letters = ['a','b','c','d','e','r','t','y','u']\n",
        "for i in letters:\n",
        "  print(f'{i} is letter')\n"
      ],
      "metadata": {
        "colab": {
          "base_uri": "https://localhost:8080/"
        },
        "id": "6s3nAg50HszV",
        "outputId": "e91da0f9-4c4a-4f93-8593-d7c6b56e92ff"
      },
      "execution_count": 5,
      "outputs": [
        {
          "output_type": "stream",
          "name": "stdout",
          "text": [
            "a is letter\n",
            "b is letter\n",
            "c is letter\n",
            "d is letter\n",
            "e is letter\n",
            "r is letter\n",
            "t is letter\n",
            "y is letter\n",
            "u is letter\n"
          ]
        }
      ]
    },
    {
      "cell_type": "code",
      "source": [
        "magicians = ['alice', 'david', 'carolina']\n",
        "\n",
        "for magician in magicians:\n",
        "    print(f\"{magician.title()}, that was a great trick!\")\n",
        "    print(f\"I can't wait to see your next trick, {magician.title()}.\\n\")\n",
        "\n",
        "print(\"Thank you, everyone. That was a great magic show!\")"
      ],
      "metadata": {
        "colab": {
          "base_uri": "https://localhost:8080/"
        },
        "id": "yojv2TP_IEn_",
        "outputId": "5e8a8f6c-80e4-4066-d22f-76c1e704a1f6"
      },
      "execution_count": 6,
      "outputs": [
        {
          "output_type": "stream",
          "name": "stdout",
          "text": [
            "Alice, that was a great trick!\n",
            "I can't wait to see your next trick, Alice.\n",
            "\n",
            "David, that was a great trick!\n",
            "I can't wait to see your next trick, David.\n",
            "\n",
            "Carolina, that was a great trick!\n",
            "I can't wait to see your next trick, Carolina.\n",
            "\n",
            "Thank you, everyone. That was a great magic show!\n"
          ]
        }
      ]
    },
    {
      "cell_type": "code",
      "source": [
        "#Using range() to Make a List of Numbers\n",
        "\n",
        "list1 = list(range(1,100,4))\n",
        "print(list1)\n"
      ],
      "metadata": {
        "colab": {
          "base_uri": "https://localhost:8080/"
        },
        "id": "MdeGHUUZIykb",
        "outputId": "7d2173a9-828d-445e-f999-ebe1e91ab9b3"
      },
      "execution_count": 11,
      "outputs": [
        {
          "output_type": "stream",
          "name": "stdout",
          "text": [
            "[1, 5, 9, 13, 17, 21, 25, 29, 33, 37, 41, 45, 49, 53, 57, 61, 65, 69, 73, 77, 81, 85, 89, 93, 97]\n"
          ]
        }
      ]
    },
    {
      "cell_type": "code",
      "source": [
        "#squares of list with range() method\n",
        "\n",
        "list1 = []\n",
        "\n",
        "for i in range(1,5):\n",
        "  sq = i ** 2\n",
        "  list1.append(sq)\n",
        "\n",
        "print(list1)"
      ],
      "metadata": {
        "colab": {
          "base_uri": "https://localhost:8080/"
        },
        "id": "mKZZ3NMJJopc",
        "outputId": "7e6699e6-5f44-4f9e-cba2-f27ea149ea2d"
      },
      "execution_count": 17,
      "outputs": [
        {
          "output_type": "stream",
          "name": "stdout",
          "text": [
            "[1, 4, 9, 16]\n"
          ]
        }
      ]
    },
    {
      "cell_type": "code",
      "source": [
        "#List Comprehensions\n",
        "list1 = []\n",
        "n = int(input())\n",
        "\n",
        "for i in range(0,n):\n",
        "  x = int(input())\n",
        "  list1.append(x)\n",
        "list1 = [i ** 2 for i in list1]\n",
        "print(list1)"
      ],
      "metadata": {
        "colab": {
          "base_uri": "https://localhost:8080/"
        },
        "id": "Bah0aAf0KZrK",
        "outputId": "bf4db1d5-c05c-414c-b974-7fecf6088af9"
      },
      "execution_count": 18,
      "outputs": [
        {
          "output_type": "stream",
          "name": "stdout",
          "text": [
            "3\n",
            "1 \n",
            "2\n",
            "3\n",
            "[1, 4, 9]\n"
          ]
        }
      ]
    },
    {
      "cell_type": "code",
      "source": [
        "#Looping Through a Slice\n",
        "letter = ['a','c','f','g','r']\n",
        "\n",
        "for i in letters[0:3]:\n",
        "  print(i.title(),end = ' ')\n",
        "\n"
      ],
      "metadata": {
        "colab": {
          "base_uri": "https://localhost:8080/"
        },
        "id": "pSiSy5KZLxYF",
        "outputId": "f10dd6d0-d3e8-4103-fa60-ce9045c74a4e"
      },
      "execution_count": 22,
      "outputs": [
        {
          "output_type": "stream",
          "name": "stdout",
          "text": [
            "A B C "
          ]
        }
      ]
    },
    {
      "cell_type": "code",
      "source": [
        "#Copying list elements\n",
        "letter1 = ['a','c','f','g','r']\n",
        "\n",
        "#copy letter1 to letter2\n",
        "letter2 = letter1[:]\n",
        "\n",
        "print(letter1)\n",
        "print(letter2)\n",
        "\n",
        "#print with id\n",
        "print(id(letter1))\n",
        "print(id(letter2))\n",
        "\n",
        "#check lists are same or not\n",
        "letter1 is letter2\n"
      ],
      "metadata": {
        "colab": {
          "base_uri": "https://localhost:8080/"
        },
        "id": "ApUum7k6L81V",
        "outputId": "cd9bf877-d492-45dc-ae71-36a8e66b1182"
      },
      "execution_count": 31,
      "outputs": [
        {
          "output_type": "stream",
          "name": "stdout",
          "text": [
            "['a', 'c', 'f', 'g', 'r']\n",
            "['a', 'c', 'f', 'g', 'r']\n",
            "134491327425728\n",
            "134491326823936\n"
          ]
        },
        {
          "output_type": "execute_result",
          "data": {
            "text/plain": [
              "False"
            ]
          },
          "metadata": {},
          "execution_count": 31
        }
      ]
    },
    {
      "cell_type": "code",
      "source": [
        "#Copying list\n",
        "letter1 = ['a','c','f','g','r']\n",
        "\n",
        "#copy list\n",
        "letter2 = letter2\n",
        "\n",
        "#print all lists\n",
        "print(letter1)\n",
        "print(letter2)\n",
        "\n",
        "#print lists with id\n",
        "print(id(letter1))\n",
        "print(id(letter2))\n",
        "\n",
        "#check lists are same or not\n",
        "if letter1 == letter2:\n",
        "  print(1)\n",
        "else :\n",
        "  print(0)\n"
      ],
      "metadata": {
        "colab": {
          "base_uri": "https://localhost:8080/"
        },
        "id": "aJZdYEsQNDC_",
        "outputId": "ad41aec3-9062-4210-9193-caf31abecf9f"
      },
      "execution_count": 26,
      "outputs": [
        {
          "output_type": "stream",
          "name": "stdout",
          "text": [
            "['a', 'c', 'f', 'g', 'r']\n",
            "['a', 'c', 'f', 'g', 'r']\n",
            "134491327215552\n",
            "134491692985216\n",
            "1\n"
          ]
        }
      ]
    },
    {
      "cell_type": "code",
      "source": [
        "#Tuple\n",
        "tuple1 = [1,2,3,4,5,6]\n",
        "print(tuple1[1])"
      ],
      "metadata": {
        "colab": {
          "base_uri": "https://localhost:8080/"
        },
        "id": "1-q4MgrTOVyG",
        "outputId": "bee6b7a6-c030-4951-d714-3a5a9bc06565"
      },
      "execution_count": 32,
      "outputs": [
        {
          "output_type": "stream",
          "name": "stdout",
          "text": [
            "2\n"
          ]
        }
      ]
    },
    {
      "cell_type": "code",
      "source": [
        "#Loop in Tuple\n",
        "tuple1 = [1,2,3,4,5,6]\n",
        "\n",
        "for i in tuple1:\n",
        "  print(i)"
      ],
      "metadata": {
        "colab": {
          "base_uri": "https://localhost:8080/"
        },
        "id": "BZtPGhRsO3Vo",
        "outputId": "4908025e-0ddc-464e-be9d-68021c00b31e"
      },
      "execution_count": 33,
      "outputs": [
        {
          "output_type": "stream",
          "name": "stdout",
          "text": [
            "1\n",
            "2\n",
            "3\n",
            "4\n",
            "5\n",
            "6\n"
          ]
        }
      ]
    }
  ]
}