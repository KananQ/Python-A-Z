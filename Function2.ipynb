{
  "nbformat": 4,
  "nbformat_minor": 0,
  "metadata": {
    "colab": {
      "provenance": []
    },
    "kernelspec": {
      "name": "python3",
      "display_name": "Python 3"
    },
    "language_info": {
      "name": "python"
    }
  },
  "cells": [
    {
      "cell_type": "code",
      "execution_count": 1,
      "metadata": {
        "colab": {
          "base_uri": "https://localhost:8080/"
        },
        "id": "lmYsgTamxCy-",
        "outputId": "7c2a2ffd-9083-47d0-8a3a-3800cb05b3da"
      },
      "outputs": [
        {
          "output_type": "stream",
          "name": "stdout",
          "text": [
            "Hello Kanan\n",
            "Hello,again Kanan\n"
          ]
        }
      ],
      "source": [
        "def greet_user(username):\n",
        "  \"\"\"Display a simple greeting\"\"\"\n",
        "  print(f\"Hello {username}\")\n",
        "  print(f\"Hello,again {username}\")\n",
        "\n",
        "greet_user('Kanan')"
      ]
    },
    {
      "cell_type": "code",
      "source": [
        "def describe_pet(animal_type, pet_name):\n",
        "    \"\"\"Display information about a pet.\"\"\"\n",
        "    print(f\"\\nI have a {animal_type}.\")\n",
        "    print(f\"My {animal_type}'s name is {pet_name.title()}.\")\n",
        "\n",
        "describe_pet('hamster', 'harry')\n",
        "describe_pet('dog', 'willie')"
      ],
      "metadata": {
        "colab": {
          "base_uri": "https://localhost:8080/"
        },
        "id": "QMgRz7pjxthm",
        "outputId": "24711987-54bc-4712-ca4d-4cd49902ebab"
      },
      "execution_count": 2,
      "outputs": [
        {
          "output_type": "stream",
          "name": "stdout",
          "text": [
            "\n",
            "I have a hamster.\n",
            "My hamster's name is Harry.\n",
            "\n",
            "I have a dog.\n",
            "My dog's name is Willie.\n"
          ]
        }
      ]
    },
    {
      "cell_type": "code",
      "source": [
        "def describe_pet(animal_type, pet_name):\n",
        "    \"\"\"Display information about a pet.\"\"\"\n",
        "    print(f\"\\nI have a {animal_type}.\")\n",
        "    print(f\"My {animal_type}'s name is {pet_name.title()}.\")\n",
        "\n",
        "describe_pet(pet_name='harry',animal_type='hamster')"
      ],
      "metadata": {
        "id": "eSAHz5yWyiLt"
      },
      "execution_count": null,
      "outputs": []
    },
    {
      "cell_type": "code",
      "source": [
        "describe_pet(animal_type='hamster', pet_name='harry')\n",
        "describe_pet(pet_name='harry', animal_type='hamster')"
      ],
      "metadata": {
        "colab": {
          "base_uri": "https://localhost:8080/"
        },
        "id": "MKUQjuGry5Zb",
        "outputId": "45f06b7d-5cc0-466f-fe47-3938e4f9583f"
      },
      "execution_count": 3,
      "outputs": [
        {
          "output_type": "stream",
          "name": "stdout",
          "text": [
            "\n",
            "I have a hamster.\n",
            "My hamster's name is Harry.\n",
            "\n",
            "I have a hamster.\n",
            "My hamster's name is Harry.\n"
          ]
        }
      ]
    },
    {
      "cell_type": "code",
      "source": [
        "#Must change argumanet insade of list\n",
        "def describe_pet(pet_name='willie', animal_type):\n",
        "    \"\"\"Display information about a pet.\"\"\"\n",
        "    print(f\"\\nI have a {animal_type}.\")\n",
        "    print(f\"My {animal_type}'s name is {pet_name.title()}.\")\n",
        "\n",
        "\n",
        "describe_pet(pet_name='willie',animal_type=\"cat\")\n",
        "describe_pet(pet_name='willie')"
      ],
      "metadata": {
        "id": "BZ9_5-mxzK7i"
      },
      "execution_count": null,
      "outputs": []
    },
    {
      "cell_type": "code",
      "source": [
        "def get_formatted_name(first_name, middle_name, last_name):\n",
        "    \"\"\"Return a full name, neatly formatted.\"\"\"\n",
        "    full_name = f\"{first_name} {middle_name} {last_name}\"\n",
        "    return full_name.title()\n",
        "\n",
        "musician = get_formatted_name('john','hooken' ,'hooker')\n",
        "print(musician)"
      ],
      "metadata": {
        "colab": {
          "base_uri": "https://localhost:8080/"
        },
        "id": "FwUmb1rzztm0",
        "outputId": "1d0ed12a-91a1-4d36-fec9-9f852722348b"
      },
      "execution_count": 7,
      "outputs": [
        {
          "output_type": "stream",
          "name": "stdout",
          "text": [
            "John Hooken Hooker\n"
          ]
        }
      ]
    },
    {
      "cell_type": "code",
      "source": [
        "def get_formatted_name(first_name, last_name, middle_name=''):\n",
        "     \"\"\"Return a full name, neatly formatted.\"\"\"\n",
        "     if middle_name:\n",
        "        full_name = f\"{first_name} {middle_name} {last_name}\"\n",
        "     else:\n",
        "        full_name = f\"{first_name} {last_name}\"\n",
        "     return full_name.title()\n",
        "\n",
        "musician = get_formatted_name('jimi', 'hendrix')\n",
        "print(musician)\n",
        "\n",
        "musician = get_formatted_name('john', 'hooker', 'lee')\n",
        "print(musician)"
      ],
      "metadata": {
        "id": "JmARtTnv0nJk"
      },
      "execution_count": null,
      "outputs": []
    },
    {
      "cell_type": "code",
      "source": [
        "def build_person(first_name, last_name, age=None):\n",
        "  \"\"\"Return a dictionary of information about a person.\"\"\"\n",
        "  person = {'first': first_name, 'last': last_name}\n",
        "  if age:\n",
        "      person['age'] = age\n",
        "  return person\n",
        "\n",
        "musician = build_person('jimi', 'hendrix', age=27)\n",
        "print(musician)"
      ],
      "metadata": {
        "id": "lYqWwKaR09Np"
      },
      "execution_count": null,
      "outputs": []
    },
    {
      "cell_type": "code",
      "source": [
        "def build_person(first_name, last_name, age=None):\n",
        "  person = {'first': first_name, 'last': last_name}\n",
        "  if age:\n",
        "    person['age'] = age\n",
        "  return person\n",
        "\n",
        "musician = build_person('jimi', 'hendrix', age=27)\n",
        "print(musician)\n",
        "\n"
      ],
      "metadata": {
        "colab": {
          "base_uri": "https://localhost:8080/"
        },
        "id": "hqxOn2c209IF",
        "outputId": "2315f6e7-0979-4b68-8352-f545964a962b"
      },
      "execution_count": 8,
      "outputs": [
        {
          "output_type": "stream",
          "name": "stdout",
          "text": [
            "{'first': 'jimi', 'last': 'hendrix', 'age': 27}\n"
          ]
        }
      ]
    },
    {
      "cell_type": "code",
      "source": [],
      "metadata": {
        "id": "wW94z6E208-X"
      },
      "execution_count": null,
      "outputs": []
    },
    {
      "cell_type": "code",
      "source": [],
      "metadata": {
        "id": "jMzNkxI908ks"
      },
      "execution_count": null,
      "outputs": []
    }
  ]
}