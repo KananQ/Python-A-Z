{
  "nbformat": 4,
  "nbformat_minor": 0,
  "metadata": {
    "colab": {
      "provenance": []
    },
    "kernelspec": {
      "name": "python3",
      "display_name": "Python 3"
    },
    "language_info": {
      "name": "python"
    }
  },
  "cells": [
    {
      "cell_type": "markdown",
      "source": [
        "# Lists:For Loop\n",
        "1. Convert a list of characters into a string. For example,\n",
        "\n",
        "\n",
        "```\n",
        "['a', 'b', 'c', 'd'] -> \"abcd\"\n",
        "```\n",
        "\n",
        "2. Calculate the area of a circle using its radius. **Get input from user** (pi = 3.14)\n",
        "\n",
        "3. Write a Python program that takes three numbers as input and prints the largest number. **Get Input from user.**\n",
        "\n",
        "```\n",
        "Enter first number:\n",
        "2\n",
        "Enter second number:\n",
        "6\n",
        "Enter third number:\n",
        "8\n",
        "Output: 862\n",
        "```\n",
        "\n",
        "4. Write a Python program that takes a list of integers and creates a new list containing the squares of each integer in the original list.\n",
        "\n",
        "```\n",
        "Input:\n",
        "[1, 2, 3, 4, 5]\n",
        "Output:\n",
        "[1, 4, 9, 16, 25]\n",
        "\n",
        "```\n",
        "\n",
        "5. Write a Python program that creates a new list where each element is the cumulative sum of the elements from the original list.\n",
        "\n",
        "```\n",
        "Input:\n",
        "[1, 2, 3, 4]\n",
        "Output:\n",
        "[1, 3, 6, 10]\n",
        "\n",
        "```"
      ],
      "metadata": {
        "id": "hdSFVbFZMhQN"
      }
    },
    {
      "cell_type": "code",
      "source": [
        "#TASK1 with while\n",
        "\n",
        "string1 = \"\"\n",
        "list1 = ['a','b','c','d','e','f','g','h']\n",
        "i = 0\n",
        "\n",
        "while i < len(list1):\n",
        "  string1 += list1[i]\n",
        "  i += 1\n",
        "\n",
        "print(string1)\n"
      ],
      "metadata": {
        "colab": {
          "base_uri": "https://localhost:8080/"
        },
        "id": "MC7ixDPUtvVP",
        "outputId": "67e590bc-cd43-43bf-8d24-92ae448c601e"
      },
      "execution_count": 5,
      "outputs": [
        {
          "output_type": "stream",
          "name": "stdout",
          "text": [
            "abcdefgh\n"
          ]
        }
      ]
    },
    {
      "cell_type": "code",
      "source": [
        "#TASK1 with function\n",
        "\n",
        "list1 = ['a','b','c','d','e','f','g','h']\n",
        "string1 = ''.join(list1)\n",
        "print(string1)\n"
      ],
      "metadata": {
        "colab": {
          "base_uri": "https://localhost:8080/"
        },
        "id": "g9IlftXnwV8Y",
        "outputId": "91e23216-8a35-414c-ce2e-01aa3ef74498"
      },
      "execution_count": 8,
      "outputs": [
        {
          "output_type": "stream",
          "name": "stdout",
          "text": [
            "abcdefgh\n"
          ]
        }
      ]
    },
    {
      "cell_type": "code",
      "source": [
        "#TASK2\n",
        "r = int(input('Enter radius:'))\n",
        "pi = 3.14\n",
        "area = pi * (r**2)\n",
        "print(area)"
      ],
      "metadata": {
        "colab": {
          "base_uri": "https://localhost:8080/"
        },
        "id": "XvMU-nIPwvJW",
        "outputId": "7abc236a-bf8c-4735-fb83-3ecd64bc45df"
      },
      "execution_count": 9,
      "outputs": [
        {
          "output_type": "stream",
          "name": "stdout",
          "text": [
            "Enter radius:3\n",
            "28.26\n"
          ]
        }
      ]
    },
    {
      "cell_type": "code",
      "source": [
        "#TASK3\n",
        "list1 = []\n",
        "a = int(input(\"Enter 1:\"))\n",
        "list1.append(a)\n",
        "b = int(input(\"Enter 2:\"))\n",
        "list1.append(b)\n",
        "c = int(input(\"Enter 3:\"))\n",
        "list1.append(c)\n",
        "\n",
        "print('Max number:',max(list1))\n",
        "\n",
        "list1.sort()\n",
        "list1.reverse()\n",
        "print(list1)\n",
        "\n",
        "\n"
      ],
      "metadata": {
        "colab": {
          "base_uri": "https://localhost:8080/"
        },
        "id": "fxbRO08GxdOf",
        "outputId": "b09418ea-846f-4b87-afe0-3259d7c297f2"
      },
      "execution_count": 16,
      "outputs": [
        {
          "output_type": "stream",
          "name": "stdout",
          "text": [
            "Enter 1:1\n",
            "Enter 2:2\n",
            "Enter 3:3\n",
            "Max number: 3\n",
            "[3, 2, 1]\n"
          ]
        }
      ]
    },
    {
      "cell_type": "code",
      "source": [
        "#TASK3 with loop\n",
        "list1 = []\n",
        "n = int(input('Enter size of list:'))\n",
        "\n",
        "for i in range(0,n):\n",
        "  element = int(input())\n",
        "  list1.append(element)\n",
        "\n",
        "max1 = list1[0]\n",
        "for i in range(len(list1)):\n",
        "  if list1[i] > max1:\n",
        "    max1 = list1[i]\n",
        "\n",
        "print(\"Max number of list:\",max1)"
      ],
      "metadata": {
        "colab": {
          "base_uri": "https://localhost:8080/"
        },
        "id": "T6PJAvkj4osG",
        "outputId": "2315ba9f-effc-4364-9c72-9f80efad3cc7"
      },
      "execution_count": 35,
      "outputs": [
        {
          "output_type": "stream",
          "name": "stdout",
          "text": [
            "Enter size of list:4\n",
            "4 \n",
            "1\n",
            "2\n",
            "0\n",
            "Max number of list: 4\n"
          ]
        }
      ]
    },
    {
      "cell_type": "code",
      "source": [
        "#TASK4\n",
        "\n",
        "list1 = []\n",
        "n = int(input(\"Enter size of list:\"))\n",
        "for i in range(0,n):\n",
        "  element = int(input())\n",
        "  list1.append(element)\n",
        "\n",
        "list1 = [i**2 for i in list1]\n",
        "print(list1)\n",
        "\n",
        "\n"
      ],
      "metadata": {
        "colab": {
          "base_uri": "https://localhost:8080/"
        },
        "id": "uR9KomqL0LkV",
        "outputId": "7d8e4f3a-899a-44f3-93cf-53e883944fba"
      },
      "execution_count": 26,
      "outputs": [
        {
          "output_type": "stream",
          "name": "stdout",
          "text": [
            "Enter size of list:4\n",
            "2 \n",
            "3\n",
            "4\n",
            "5\n",
            "[4, 9, 16, 25]\n"
          ]
        }
      ]
    },
    {
      "cell_type": "code",
      "source": [
        "#TASK5\n",
        "list1 = []\n",
        "n = int(input(\"Enter size of list:\"))\n",
        "for i in range(0,n):\n",
        "  element = int(input())\n",
        "  list1.append(element)\n",
        "\n",
        "sum = 0\n",
        "\n",
        "for i in range(len(list1)):\n",
        "  sum += list1[i]\n",
        "  list1[i] = sum\n",
        "\n",
        "print(list1)\n"
      ],
      "metadata": {
        "colab": {
          "base_uri": "https://localhost:8080/"
        },
        "id": "FcPd4EON1qfg",
        "outputId": "eb84895a-d803-41a8-effb-19679dee59cd"
      },
      "execution_count": 36,
      "outputs": [
        {
          "output_type": "stream",
          "name": "stdout",
          "text": [
            "Enter size of list:4\n",
            "2 \n",
            "4\n",
            "1\n",
            "5\n",
            "[2, 6, 7, 12]\n"
          ]
        }
      ]
    }
  ]
}