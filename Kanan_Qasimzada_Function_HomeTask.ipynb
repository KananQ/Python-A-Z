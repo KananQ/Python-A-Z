{
  "nbformat": 4,
  "nbformat_minor": 0,
  "metadata": {
    "colab": {
      "provenance": []
    },
    "kernelspec": {
      "name": "python3",
      "display_name": "Python 3"
    },
    "language_info": {
      "name": "python"
    }
  },
  "cells": [
    {
      "cell_type": "markdown",
      "source": [
        "1) Write a function is_even(n) that returns True if the number is even, otherwise False.\n",
        "\n",
        "2) Write a function is_prime(n) that checks if a number is prime. (*A prime number is a natural number greater than 1 that has no positive divisors other than 1 and itself. In other words, a prime number is only divisible by 1 and itself without leaving a remainder. Examples of prime numbers include 2, 3, 5, 7, 11, 13, 17, and so on.*)\n",
        "\n",
        "3) Write a  Python function to multiply all the numbers in a list.\n",
        "\n",
        "\n",
        "```\n",
        "Sample List : (8, 2, 3, -1, 7)\n",
        "Expected Output : -336\n",
        "```\n",
        "\n",
        "4) Write a Python function that accepts a string and counts the number of upper and lower case letters.\n",
        "\n",
        "```\n",
        "Sample String : 'The quick Brow Fox'\n",
        "Expected Output :\n",
        "No. of Upper case characters : 3\n",
        "No. of Lower case Characters : 12\n",
        "```\n",
        "\n",
        "5) Write a  Python function to create and print a list where the values are the squares of numbers between 1 and 30 (both included).\n",
        "\n",
        "6) Write a function to check if a given number is an Armstrong number or not.\n",
        "\n",
        "7) Write a function that calculates the sum of digits of a given number.\n",
        "\n",
        "8) Write a function that finds the number of divisors of a given number.\n",
        "\n",
        "9) Write a function called fuel_cost that takes a distance as a required argument, km (default 50 km) and fuel cost (default $1 a litre) as optional arguments. The function should return the cost in dollars.\n",
        "\n",
        "10) Write a function called hcf (ƏBOB) that takes 2 integer values and returns the highest common factor of the numbers.\n",
        "\n"
      ],
      "metadata": {
        "id": "Bk0TIJb3ERrI"
      }
    },
    {
      "cell_type": "code",
      "source": [
        "#Task1\n",
        "#1) Write a function is_even(n) that returns True if the number is even, otherwise False.\n",
        "\n",
        "def is_even(n):\n",
        "  \"\"\"This function for find number is even or not\"\"\"\n",
        "  if n % 2 == 0:\n",
        "    return True\n",
        "  else:\n",
        "    return False\n",
        "\n",
        "#Check\n",
        "print(is_even(5))\n",
        "print(is_even(12))"
      ],
      "metadata": {
        "colab": {
          "base_uri": "https://localhost:8080/"
        },
        "id": "CdAa50x1N8sP",
        "outputId": "3b68299e-cf11-4c37-9ccc-d112dcf67baa"
      },
      "execution_count": 4,
      "outputs": [
        {
          "output_type": "stream",
          "name": "stdout",
          "text": [
            "False\n",
            "True\n"
          ]
        }
      ]
    },
    {
      "cell_type": "code",
      "source": [
        "#Task2\n",
        "\n",
        "\"\"\"Write a function is_prime(n) that checks if a number is prime.\n",
        "  (A prime number is a natural number greater than 1 that has no positive divisors other than 1 and itself.\n",
        "   In other words, a prime number is only divisible by 1 and itself without leaving a remainder.\n",
        "   Examples of prime numbers include 2, 3, 5, 7, 11, 13, 17, and so on.)\"\"\"\n",
        "\n",
        "import math\n",
        "\n",
        "def is_prime(n):\n",
        "    \"\"\"This function for find prime number\"\"\"\n",
        "    if n < 2:\n",
        "      return False\n",
        "\n",
        "    a = int(math.sqrt(n)) + 1\n",
        "\n",
        "    for i in range(2, a):\n",
        "        if n % i == 0:\n",
        "            return False\n",
        "    return True\n",
        "\n",
        "#Check\n",
        "print(is_prime(3))\n",
        "print(is_prime(4))\n"
      ],
      "metadata": {
        "colab": {
          "base_uri": "https://localhost:8080/"
        },
        "id": "Bc_Qejf4N9G8",
        "outputId": "7198ade4-136c-4ef9-c65d-e6a3868e44ac"
      },
      "execution_count": 13,
      "outputs": [
        {
          "output_type": "stream",
          "name": "stdout",
          "text": [
            "True\n",
            "False\n"
          ]
        }
      ]
    },
    {
      "cell_type": "code",
      "source": [
        "#Task3\n",
        "#Write a Python function to multiply all the numbers in a list.\n",
        "def  multiply_list(n):\n",
        "  \"\"\"This function for multiplication of list\"\"\"\n",
        "  m = 1\n",
        "  for i in range(0,len(n)):\n",
        "    m *= n[i]\n",
        "  return m\n",
        "\n",
        "#Check\n",
        "\n",
        "list1 = [1,2,3,4,5]\n",
        "print(multiply_list(list1))"
      ],
      "metadata": {
        "colab": {
          "base_uri": "https://localhost:8080/"
        },
        "id": "ryUkviKNQsu1",
        "outputId": "c4d136ec-9194-4280-b4f7-9b9c9130ad89"
      },
      "execution_count": 15,
      "outputs": [
        {
          "output_type": "stream",
          "name": "stdout",
          "text": [
            "120\n"
          ]
        }
      ]
    },
    {
      "cell_type": "code",
      "source": [
        "#Task4\n",
        "#Write a Python function that accepts a string and counts the number of upper and lower case letters.\n",
        "\n",
        "def countofletters(s):\n",
        "  \"\"\"This function find for count of upper and lower letters in string\"\"\"\n",
        "  upper = 0\n",
        "  lower = 0\n",
        "  for i in range(0, len(s)):\n",
        "    if ord(s[i]) >= 65 and ord(s[i]) <= 90:\n",
        "      upper += 1\n",
        "    elif ord(s[i]) >= 97 and ord(s[i]) <= 122:\n",
        "      lower += 1\n",
        "\n",
        "  print(\"Count of lower letters:\", lower)\n",
        "  print(\"Count of upper letters\", upper)\n",
        "  return upper, lower\n",
        "\n",
        "\n",
        "#Check\n",
        "print(countofletters('Kanan'))\n"
      ],
      "metadata": {
        "colab": {
          "base_uri": "https://localhost:8080/"
        },
        "id": "0w-iSZ-fRjEZ",
        "outputId": "1bb9b323-4d69-406d-cf64-68c7803f05e4"
      },
      "execution_count": 75,
      "outputs": [
        {
          "output_type": "stream",
          "name": "stdout",
          "text": [
            "Count of lower letters: 4\n",
            "Count of upper letters 1\n",
            "(1, 4)\n"
          ]
        }
      ]
    },
    {
      "cell_type": "code",
      "source": [
        "#Task5\n",
        "#Write a Python function to create and print a list where the values are the squares of numbers between 1 and 30 (both included).\n",
        "import math\n",
        "def find_square_number(n):\n",
        "  \"\"\"This function for find number of square\"\"\"\n",
        "  list1 = []\n",
        "  for i in range(0, len(n)):\n",
        "    m = math.sqrt(n[i])\n",
        "    if (m * m) == n[i]:\n",
        "      list1.append(n[i])\n",
        "  return list1\n",
        "\n",
        "#Check\n",
        "list2 = [1,2,3,4,5,6,25,9,81]\n",
        "print(find_square_number(list2))"
      ],
      "metadata": {
        "colab": {
          "base_uri": "https://localhost:8080/"
        },
        "id": "qksVYuqpT6n_",
        "outputId": "3291a4df-9018-4662-db3a-1cc3f84c004b"
      },
      "execution_count": 25,
      "outputs": [
        {
          "output_type": "stream",
          "name": "stdout",
          "text": [
            "[1, 4, 25, 9, 81]\n"
          ]
        }
      ]
    },
    {
      "cell_type": "code",
      "source": [
        "#Task6\n",
        "\n",
        "def check_armstorng(n):\n",
        "  \"\"\"This function for find armstrong number\"\"\"\n",
        "\n",
        "  sum = 0\n",
        "  n1 = n\n",
        "\n",
        "  while n != 0:\n",
        "    r = int(n % 10)\n",
        "    sum += (r ** 3)\n",
        "    n /= 10\n",
        "\n",
        "  if sum == n1:\n",
        "    return True\n",
        "  else:\n",
        "    return False\n",
        "\n",
        "#Check\n",
        "\n",
        "print(check_armstorng(153))\n",
        "print(check_armstorng(11))\n",
        "print(check_armstorng(1))\n",
        "print(check_armstorng(0))\n",
        "\n",
        "\n"
      ],
      "metadata": {
        "colab": {
          "base_uri": "https://localhost:8080/"
        },
        "id": "wm06pEW0Vbo0",
        "outputId": "eda5d610-6183-4821-dabd-17505a3b732b"
      },
      "execution_count": 43,
      "outputs": [
        {
          "output_type": "stream",
          "name": "stdout",
          "text": [
            "True\n",
            "False\n",
            "True\n",
            "True\n"
          ]
        }
      ]
    },
    {
      "cell_type": "code",
      "source": [
        "#Task7\n",
        "# Write a function that calculates the sum of digits of a given number.\n",
        "\n",
        "def sum_digits(n):\n",
        "  \"\"\"This function for find sum of digits\"\"\"\n",
        "  sum = 0\n",
        "\n",
        "  while n != 0:\n",
        "    r = int(n % 10)\n",
        "    sum += r\n",
        "    n /= 10\n",
        "  return sum\n",
        "\n",
        "#Check\n",
        "print(sum_digits(12345))\n"
      ],
      "metadata": {
        "colab": {
          "base_uri": "https://localhost:8080/"
        },
        "id": "cSPfYn36Vvrk",
        "outputId": "8fd0ebbe-94a7-47c5-bc23-f495967e9bd6"
      },
      "execution_count": 47,
      "outputs": [
        {
          "output_type": "stream",
          "name": "stdout",
          "text": [
            "15\n"
          ]
        }
      ]
    },
    {
      "cell_type": "code",
      "source": [
        "#Task8\n",
        "import math\n",
        "#Write a function that finds the number of divisors of a given number.\n",
        "def divisorsofnumber(n):\n",
        "  \"\"\"This function find for divisors of number\"\"\"\n",
        "  list1 = []\n",
        "  sqrt1 = int(math.sqrt(n))\n",
        "\n",
        "  for i in range(2, sqrt1):\n",
        "    if n % i == 0:\n",
        "      list1.append(i)\n",
        "  return list1\n",
        "\n",
        "#Check\n",
        "print(divisorsofnumber(40))\n",
        "print(divisorsofnumber(17))\n",
        "print(divisorsofnumber(100))\n",
        "print(divisorsofnumber(45))"
      ],
      "metadata": {
        "colab": {
          "base_uri": "https://localhost:8080/"
        },
        "id": "HyA4GfCrZMbH",
        "outputId": "2d0ec699-6920-4bbf-e293-7b7a33474dc6"
      },
      "execution_count": 56,
      "outputs": [
        {
          "output_type": "stream",
          "name": "stdout",
          "text": [
            "[2, 4, 5]\n",
            "[]\n",
            "[2, 4, 5]\n",
            "[3, 5]\n"
          ]
        }
      ]
    },
    {
      "cell_type": "code",
      "source": [
        "#Task9\n",
        "\"\"\"Write a function called fuel_cost that takes a distance as a required argument,\n",
        "km (default 50 km) and fuel cost (default $1 a litre) as optional arguments.\n",
        "The function should return the cost in dollars.\"\"\"\n",
        "\n",
        "def fuel_cost(distance, km=50, fuel_cost_per_litre=1):\n",
        "    total_cost = (distance / km) * fuel_cost_per_litre\n",
        "    return total_cost\n",
        "\n",
        "#Check\n",
        "print(fuel_cost(450))"
      ],
      "metadata": {
        "colab": {
          "base_uri": "https://localhost:8080/"
        },
        "id": "lZpWfCZpbVmt",
        "outputId": "27d8b9e2-4a2b-4f9a-bf72-7561a9f9f5db"
      },
      "execution_count": 65,
      "outputs": [
        {
          "output_type": "stream",
          "name": "stdout",
          "text": [
            "9.0\n"
          ]
        }
      ]
    },
    {
      "cell_type": "code",
      "source": [
        " #Task10\n",
        "def ebob1(x, y):\n",
        "    \"\"\"This function for find ebob\"\"\"\n",
        "    while y != 0:\n",
        "        c = x % y\n",
        "        x = y\n",
        "        y = c\n",
        "    return x\n",
        "\n",
        "#Check\n",
        "print(ebob1(55, 54))\n",
        "print(ebob1(10, 5))\n",
        "print(ebob1(67, 66))\n"
      ],
      "metadata": {
        "colab": {
          "base_uri": "https://localhost:8080/"
        },
        "id": "dNoVJ9v-dfUv",
        "outputId": "2500f065-8fd4-4a2a-c162-62b3797f1b44"
      },
      "execution_count": 76,
      "outputs": [
        {
          "output_type": "stream",
          "name": "stdout",
          "text": [
            "1\n",
            "5\n",
            "1\n"
          ]
        }
      ]
    }
  ]
}