{
  "nbformat": 4,
  "nbformat_minor": 0,
  "metadata": {
    "colab": {
      "provenance": []
    },
    "kernelspec": {
      "name": "python3",
      "display_name": "Python 3"
    },
    "language_info": {
      "name": "python"
    }
  },
  "cells": [
    {
      "cell_type": "code",
      "execution_count": null,
      "metadata": {
        "id": "WcvgmeJ9nXkA"
      },
      "outputs": [],
      "source": []
    },
    {
      "cell_type": "markdown",
      "source": [
        "Python mix\n"
      ],
      "metadata": {
        "id": "c9XEgxIDnZgd"
      }
    },
    {
      "cell_type": "code",
      "source": [
        "#Output print() function\n",
        "#*******************\n",
        "#Using String Modulo Operator(%)\n",
        "#Using Format Method\n",
        "#Using The String Method\n",
        "#Python’s Format Conversion Rule##"
      ],
      "metadata": {
        "id": "-GFrPSgynd-m"
      },
      "execution_count": null,
      "outputs": []
    },
    {
      "cell_type": "code",
      "source": [
        "print('Hello {1} and hello {0}'.format('Python','C++'))"
      ],
      "metadata": {
        "colab": {
          "base_uri": "https://localhost:8080/"
        },
        "id": "oajA9gZFnyRV",
        "outputId": "68421cf4-7afd-4572-f4bf-60e36dd0fc12"
      },
      "execution_count": null,
      "outputs": [
        {
          "output_type": "stream",
          "name": "stdout",
          "text": [
            "Hello C++ and hello Python\n"
          ]
        }
      ]
    },
    {
      "cell_type": "code",
      "source": [
        "print('Hello {other} and hello {1} also hello {0}'.format('Python', 'C++', other = 'Java'))"
      ],
      "metadata": {
        "colab": {
          "base_uri": "https://localhost:8080/"
        },
        "id": "-PZzLGCmoXau",
        "outputId": "9c99bc71-99ed-44d5-efd0-f73cdfc23672"
      },
      "execution_count": null,
      "outputs": [
        {
          "output_type": "stream",
          "name": "stdout",
          "text": [
            "Hello Java and hello C++ also hello Python\n"
          ]
        }
      ]
    },
    {
      "cell_type": "code",
      "source": [
        "#f-string method\n",
        "\n",
        "name = 'Kanan'\n",
        "age = '19'\n",
        "\n",
        "print(f'My name is {name} and my age is {age}')\n"
      ],
      "metadata": {
        "colab": {
          "base_uri": "https://localhost:8080/"
        },
        "id": "kkGYWK_Cowju",
        "outputId": "f02a22b0-582b-40ed-e74e-6e2c9ca18aa7"
      },
      "execution_count": null,
      "outputs": [
        {
          "output_type": "stream",
          "name": "stdout",
          "text": [
            "My name is Kanan and my age is 19\n"
          ]
        }
      ]
    },
    {
      "cell_type": "code",
      "source": [
        "#Print wihout new line\n",
        "print('Kanan',end = \" \")\n",
        "print('Qasimzada')\n",
        "\n",
        "\n",
        "for i in range(0,4):\n",
        "  print(i, end = ' ')"
      ],
      "metadata": {
        "colab": {
          "base_uri": "https://localhost:8080/"
        },
        "id": "gja4D3TepyVV",
        "outputId": "d116d957-43cd-4e4d-fe36-8e283596e1e7"
      },
      "execution_count": null,
      "outputs": [
        {
          "output_type": "stream",
          "name": "stdout",
          "text": [
            "Kanan Qasimzada\n",
            "0 1 2 3 "
          ]
        }
      ]
    },
    {
      "cell_type": "code",
      "source": [
        "name1 = 'Kanan'\n",
        "gmail = 'gmail.com'\n",
        "\n",
        "print(name1, end = '@')\n",
        "print(gmail)\n"
      ],
      "metadata": {
        "colab": {
          "base_uri": "https://localhost:8080/"
        },
        "id": "012f1232q6tn",
        "outputId": "74f44312-89c6-49b8-e4e0-cb6acb280549"
      },
      "execution_count": null,
      "outputs": [
        {
          "output_type": "stream",
          "name": "stdout",
          "text": [
            "Kanan@gmail.com\n"
          ]
        }
      ]
    },
    {
      "cell_type": "code",
      "source": [
        "#Using \"*\"\n",
        "l = [1,2,3,4,5,6,7,8,9]\n",
        "\n",
        "print(*l)\n",
        "\n"
      ],
      "metadata": {
        "colab": {
          "base_uri": "https://localhost:8080/"
        },
        "id": "FxdSHmZurSel",
        "outputId": "f97ac880-0401-4976-bb82-73737ee27c39"
      },
      "execution_count": null,
      "outputs": [
        {
          "output_type": "stream",
          "name": "stdout",
          "text": [
            "1 2 3 4 5 6 7 8 9\n"
          ]
        }
      ]
    },
    {
      "cell_type": "code",
      "source": [
        "print('G','F', sep='', end='')\n",
        "print('G')\n",
        "#\\n provides new line after printing the year\n",
        "print('09','12','2016', sep='-', end='\\n')\n",
        "\n",
        "print('Red','Green','Blue', sep=',', end='@')\n",
        "print('geeksforgeeks')"
      ],
      "metadata": {
        "colab": {
          "base_uri": "https://localhost:8080/"
        },
        "id": "hQbGVt0tr2u9",
        "outputId": "6f197b20-5326-4417-bc2b-88be1ff88733"
      },
      "execution_count": null,
      "outputs": [
        {
          "output_type": "stream",
          "name": "stdout",
          "text": [
            "GFG\n",
            "09-12-2016\n",
            "Red,Green,Blue@geeksforgeeks\n"
          ]
        }
      ]
    },
    {
      "cell_type": "code",
      "source": [
        "print('99', 'QK', '100',  sep = '-')"
      ],
      "metadata": {
        "colab": {
          "base_uri": "https://localhost:8080/"
        },
        "id": "a3yBvhEbtCrw",
        "outputId": "bf1195b2-9c05-4b5c-907d-32423c9feb90"
      },
      "execution_count": null,
      "outputs": [
        {
          "output_type": "stream",
          "name": "stdout",
          "text": [
            "99-QK-100\n"
          ]
        }
      ]
    },
    {
      "cell_type": "markdown",
      "source": [
        "Python data types\n"
      ],
      "metadata": {
        "id": "PDfvNgL3t6dg"
      }
    },
    {
      "cell_type": "code",
      "source": [
        "a = 5\n",
        "#Getting data types\n",
        "print(type(a))"
      ],
      "metadata": {
        "colab": {
          "base_uri": "https://localhost:8080/"
        },
        "id": "hr-6bpTFt9es",
        "outputId": "5ebff869-e8a1-4af4-f3e5-87c1dbf87423"
      },
      "execution_count": null,
      "outputs": [
        {
          "output_type": "stream",
          "name": "stdout",
          "text": [
            "<class 'int'>\n"
          ]
        }
      ]
    },
    {
      "cell_type": "code",
      "source": [
        "#Random number\n",
        "import random\n",
        "\n",
        "print(random.randrange(1, 5))"
      ],
      "metadata": {
        "colab": {
          "base_uri": "https://localhost:8080/"
        },
        "id": "-tqMmQ3fvrwc",
        "outputId": "7e1839c7-9b14-4739-9037-2d6316707463"
      },
      "execution_count": null,
      "outputs": [
        {
          "output_type": "stream",
          "name": "stdout",
          "text": [
            "3\n"
          ]
        }
      ]
    },
    {
      "cell_type": "code",
      "source": [
        "list1 = [1,2,3,4,5]\n",
        "print(id(list1))\n",
        "\n",
        "list1.append(6)\n",
        "print(list1)\n",
        "print(id(list1))"
      ],
      "metadata": {
        "colab": {
          "base_uri": "https://localhost:8080/"
        },
        "id": "bq7ZLwW2C0Ca",
        "outputId": "a98cd5e1-44dc-4a30-c1b3-d9b212f3a3e7"
      },
      "execution_count": null,
      "outputs": [
        {
          "output_type": "stream",
          "name": "stdout",
          "text": [
            "140478871135360\n",
            "[1, 2, 3, 4, 5, 6]\n",
            "140478871135360\n"
          ]
        }
      ]
    },
    {
      "cell_type": "code",
      "source": [
        "#Add element to list\n",
        "\n",
        "#1.Append function\n",
        "\n",
        "list1 = [1,2,3,4,5,6,7,8,9,0]\n",
        "list1.append(10)\n",
        "list1.append(11)\n",
        "list1.append(12)\n",
        "print(list1)\n",
        "\n",
        "\n",
        "#2.Insert function\n",
        "list1.insert(2,11)\n",
        "list1.insert(4,33)\n",
        "list1.insert(1,22)\n",
        "print(list1)\n",
        "\n"
      ],
      "metadata": {
        "colab": {
          "base_uri": "https://localhost:8080/"
        },
        "id": "MC1IoQEJD7xE",
        "outputId": "a4d5e6e8-56bd-4152-899b-71533ce28477"
      },
      "execution_count": null,
      "outputs": [
        {
          "output_type": "stream",
          "name": "stdout",
          "text": [
            "[1, 2, 3, 4, 5, 6, 7, 8, 9, 0, 10, 11, 12]\n",
            "[1, 22, 2, 11, 3, 33, 4, 5, 6, 7, 8, 9, 0, 10, 11, 12]\n"
          ]
        }
      ]
    },
    {
      "cell_type": "code",
      "source": [
        "#Remove element from list\n",
        "#1.Delete\n",
        "\n",
        "print(list1)\n",
        "\n",
        "del list1[0]\n",
        "del list1[3]\n",
        "del list1[9]\n",
        "print(list1)\n",
        "\n",
        "#2.pop() method\n",
        "\n",
        "x = list1.pop()\n",
        "print(x)\n",
        "\n",
        "list1.pop(2)\n",
        "list1.pop(8)\n",
        "\n",
        "print(list1)\n"
      ],
      "metadata": {
        "colab": {
          "base_uri": "https://localhost:8080/",
          "height": 263
        },
        "id": "mgDW23uyEmkm",
        "outputId": "9fc8b44c-ef14-451b-9600-9cb93f6558e7"
      },
      "execution_count": null,
      "outputs": [
        {
          "output_type": "stream",
          "name": "stdout",
          "text": [
            "[8, 10]\n",
            "[10]\n",
            "10\n"
          ]
        },
        {
          "output_type": "error",
          "ename": "IndexError",
          "evalue": "pop from empty list",
          "traceback": [
            "\u001b[0;31m---------------------------------------------------------------------------\u001b[0m",
            "\u001b[0;31mIndexError\u001b[0m                                Traceback (most recent call last)",
            "\u001b[0;32m<ipython-input-33-45edd28272fb>\u001b[0m in \u001b[0;36m<cell line: 14>\u001b[0;34m()\u001b[0m\n\u001b[1;32m     12\u001b[0m \u001b[0mprint\u001b[0m\u001b[0;34m(\u001b[0m\u001b[0mx\u001b[0m\u001b[0;34m)\u001b[0m\u001b[0;34m\u001b[0m\u001b[0;34m\u001b[0m\u001b[0m\n\u001b[1;32m     13\u001b[0m \u001b[0;34m\u001b[0m\u001b[0m\n\u001b[0;32m---> 14\u001b[0;31m \u001b[0mlist1\u001b[0m\u001b[0;34m.\u001b[0m\u001b[0mpop\u001b[0m\u001b[0;34m(\u001b[0m\u001b[0;36m2\u001b[0m\u001b[0;34m)\u001b[0m\u001b[0;34m\u001b[0m\u001b[0;34m\u001b[0m\u001b[0m\n\u001b[0m\u001b[1;32m     15\u001b[0m \u001b[0mlist1\u001b[0m\u001b[0;34m.\u001b[0m\u001b[0mpop\u001b[0m\u001b[0;34m(\u001b[0m\u001b[0;36m1\u001b[0m\u001b[0;34m)\u001b[0m\u001b[0;34m\u001b[0m\u001b[0;34m\u001b[0m\u001b[0m\n\u001b[1;32m     16\u001b[0m \u001b[0;34m\u001b[0m\u001b[0m\n",
            "\u001b[0;31mIndexError\u001b[0m: pop from empty list"
          ]
        }
      ]
    },
    {
      "cell_type": "code",
      "source": [
        "#Remove method\n",
        "list2 = ['a', 'b', 'c', 'd', 's', 'q']\n",
        "print(list2)\n",
        "\n",
        "list2.remove('a')\n",
        "list2.remove('c')\n",
        "list2.remove('q')\n",
        "print(list2)\n"
      ],
      "metadata": {
        "colab": {
          "base_uri": "https://localhost:8080/"
        },
        "id": "nN5xqNoKGQFA",
        "outputId": "21967748-0403-45e8-ed89-b5d693f45b61"
      },
      "execution_count": null,
      "outputs": [
        {
          "output_type": "stream",
          "name": "stdout",
          "text": [
            "['a', 'b', 'c', 'd', 's', 'q']\n",
            "['b', 'd', 's']\n"
          ]
        }
      ]
    },
    {
      "cell_type": "code",
      "source": [
        "#Organizing a List\n",
        "\n",
        "list3 = [2,3,4,1,3,99,100,2,3,5,6]\n",
        "list3.sort()\n",
        "print(list3)\n",
        "\n"
      ],
      "metadata": {
        "colab": {
          "base_uri": "https://localhost:8080/"
        },
        "id": "D7z61ZaAHM9V",
        "outputId": "88278239-028c-4f4e-a980-f1c579e4adbc"
      },
      "execution_count": null,
      "outputs": [
        {
          "output_type": "stream",
          "name": "stdout",
          "text": [
            "[1, 2, 2, 3, 3, 3, 4, 5, 6, 99, 100]\n"
          ]
        }
      ]
    },
    {
      "cell_type": "code",
      "source": [
        "a = ['g','h','l','a','s','r','t','f','g']\n",
        "print(a)\n",
        "a.sort(reverse = True)\n",
        "print(a)"
      ],
      "metadata": {
        "colab": {
          "base_uri": "https://localhost:8080/"
        },
        "id": "1GLJt2STHi9z",
        "outputId": "2eb3967c-30ab-4f86-a916-3c08f710c4c7"
      },
      "execution_count": null,
      "outputs": [
        {
          "output_type": "stream",
          "name": "stdout",
          "text": [
            "['g', 'h', 'l', 'a', 's', 'r', 't', 'f', 'g']\n",
            "['t', 's', 'r', 'l', 'h', 'g', 'g', 'f', 'a']\n"
          ]
        }
      ]
    },
    {
      "cell_type": "code",
      "source": [
        "#Extend method for add multiple elements\n",
        "list11 = [1,2,3,4,56,6,7,]\n",
        "list11.extend([8,'AI','salam'])\n",
        "print(list11)"
      ],
      "metadata": {
        "colab": {
          "base_uri": "https://localhost:8080/"
        },
        "id": "Oql8qUPXIWbC",
        "outputId": "7022f733-5483-43f3-d060-ea92bd96c0fa"
      },
      "execution_count": null,
      "outputs": [
        {
          "output_type": "stream",
          "name": "stdout",
          "text": [
            "[1, 2, 3, 4, 56, 6, 7, 8, 'AI', 'salam']\n"
          ]
        }
      ]
    },
    {
      "cell_type": "code",
      "source": [
        "#Sliceing process\n",
        "\n",
        "list1 = ['A', 'R', 'T', 'I', 'F', 'I',\n",
        "        'C', 'I', 'A', 'L', 'I', 'N', 'T',\n",
        "        'E', 'L', 'L', 'I', 'G', 'E', 'N', 'C', 'E']\n",
        "\n",
        "s_list = list1[0:5]\n",
        "print(s_list)\n",
        "\n",
        "s_list = list1[1:5]\n",
        "print(s_list)\n",
        "\n",
        "s_list = list1[::-1]\n",
        "print(s_list)\n",
        "\n",
        "\n",
        "\n",
        "\n"
      ],
      "metadata": {
        "colab": {
          "base_uri": "https://localhost:8080/"
        },
        "id": "xvUSZBpNJnt1",
        "outputId": "bc485445-9027-4218-ead8-78e54357f3ac"
      },
      "execution_count": null,
      "outputs": [
        {
          "output_type": "stream",
          "name": "stdout",
          "text": [
            "['A', 'R', 'T', 'I', 'F']\n",
            "['R', 'T', 'I', 'F']\n",
            "['E', 'C', 'N', 'E', 'G', 'I', 'L', 'L', 'E', 'T', 'N', 'I', 'L', 'A', 'I', 'C', 'I', 'F', 'I', 'T', 'R', 'A']\n"
          ]
        }
      ]
    },
    {
      "cell_type": "code",
      "source": [
        "#List Comprehensions\n",
        "\n",
        "\n",
        "cubes = [i ** 3 for i in range(1,9)]\n",
        "print(cubes)"
      ],
      "metadata": {
        "colab": {
          "base_uri": "https://localhost:8080/"
        },
        "id": "eWOmC8OhRnm7",
        "outputId": "3b6206c0-00e6-42c3-ddca-20ac447e1275"
      },
      "execution_count": null,
      "outputs": [
        {
          "output_type": "stream",
          "name": "stdout",
          "text": [
            "[1, 8, 27, 64, 125, 216, 343, 512]\n"
          ]
        }
      ]
    },
    {
      "cell_type": "code",
      "source": [
        "two = [i ** 2 for i in range(2,5)]\n",
        "print(two)"
      ],
      "metadata": {
        "colab": {
          "base_uri": "https://localhost:8080/"
        },
        "id": "4ke6LpSFR3Gl",
        "outputId": "84e48639-5fc3-451a-bfdb-3dd31a3ef60a"
      },
      "execution_count": null,
      "outputs": [
        {
          "output_type": "stream",
          "name": "stdout",
          "text": [
            "[4, 9, 16]\n"
          ]
        }
      ]
    },
    {
      "cell_type": "code",
      "source": [
        "#For and slice combination\n",
        "\n",
        "a = [1, 2, 3, 4, 5, 6, 7, 8, 9]\n",
        "for i in a[0:4]:\n",
        "  print(i, end = \" \")\n"
      ],
      "metadata": {
        "colab": {
          "base_uri": "https://localhost:8080/"
        },
        "id": "7DLBnjoBSDa3",
        "outputId": "fc53a9f2-5b01-4e40-afd8-8a8f5fe9e593"
      },
      "execution_count": null,
      "outputs": [
        {
          "output_type": "stream",
          "name": "stdout",
          "text": [
            "1 2 3 4 "
          ]
        }
      ]
    },
    {
      "cell_type": "code",
      "source": [
        "#Tuple\n",
        "\n",
        "a = (1,2,3,4,5)\n",
        "print(a)\n",
        "\n",
        "b = (4)\n",
        "print(b,)\n",
        "\n",
        "\n"
      ],
      "metadata": {
        "colab": {
          "base_uri": "https://localhost:8080/"
        },
        "id": "RzfhjDlPWfmc",
        "outputId": "139094d1-d234-4304-9af4-410597ab93ff"
      },
      "execution_count": null,
      "outputs": [
        {
          "output_type": "stream",
          "name": "stdout",
          "text": [
            "(1, 2, 3, 4, 5)\n",
            "4\n"
          ]
        }
      ]
    },
    {
      "cell_type": "code",
      "source": [
        "#Looping Through All Values in a Tuple\n",
        "\n",
        "a = (1,2,3,4,5,6,7,8,9)\n",
        "print(a)\n",
        "print()\n",
        "\n",
        "for i in a:\n",
        "  print(i, end = \" \")"
      ],
      "metadata": {
        "colab": {
          "base_uri": "https://localhost:8080/"
        },
        "id": "-2qWZdFvXAPO",
        "outputId": "11a603a8-a985-4f97-cbcd-1cb9a34aa4d1"
      },
      "execution_count": null,
      "outputs": [
        {
          "output_type": "stream",
          "name": "stdout",
          "text": [
            "(1, 2, 3, 4, 5, 6, 7, 8, 9)\n",
            "1 2 3 4 5 6 7 8 9 "
          ]
        }
      ]
    },
    {
      "cell_type": "code",
      "source": [
        "dimensions = (200, 50)\n",
        "\n",
        "print(\"Original dimensions:\")\n",
        "for dimension in dimensions:\n",
        "    print(dimension)\n",
        "\n",
        "dimensions = (400, 100)\n",
        "print(\"\\nModified dimensions:\")\n",
        "for dimension in dimensions:\n",
        "    print(dimension)"
      ],
      "metadata": {
        "colab": {
          "base_uri": "https://localhost:8080/"
        },
        "id": "xHM_D6rfXqFe",
        "outputId": "4011696a-d720-4653-c621-4ce39049339f"
      },
      "execution_count": null,
      "outputs": [
        {
          "output_type": "stream",
          "name": "stdout",
          "text": [
            "Original dimensions:\n",
            "200\n",
            "50\n",
            "\n",
            "Modified dimensions:\n",
            "400\n",
            "100\n"
          ]
        }
      ]
    },
    {
      "cell_type": "code",
      "source": [
        "#Dictionaries\n",
        "\n",
        "a = {\n",
        "    'color' : 'green' ,\n",
        "    'age' : 17 ,\n",
        "    'new' : False\n",
        "}\n",
        "\n",
        "alien_0 = {\n",
        "    'color': 'green',\n",
        "    'points': 5\n",
        "    }\n",
        "print(alien_0)\n",
        "\n",
        "alien_0['x_position'] = 0\n",
        "alien_0['y_position'] = 25\n",
        "\n",
        "print(alien_0)"
      ],
      "metadata": {
        "colab": {
          "base_uri": "https://localhost:8080/"
        },
        "id": "h2GJLXq3da1k",
        "outputId": "abe92fd6-89f2-4f2e-a50b-ac9f470fa307"
      },
      "execution_count": null,
      "outputs": [
        {
          "output_type": "stream",
          "name": "stdout",
          "text": [
            "{'color': 'green', 'points': 5}\n",
            "{'color': 'green', 'points': 5, 'x_position': 0, 'y_position': 25}\n"
          ]
        }
      ]
    },
    {
      "cell_type": "code",
      "source": [
        "#get() function\n",
        "\n",
        "alien_0 = {'color': 'green', 'speed': 'slow'}\n",
        "point_value = alien_0.get('points', 'No point value assigned.')\n",
        "print(point_value)"
      ],
      "metadata": {
        "colab": {
          "base_uri": "https://localhost:8080/"
        },
        "id": "x8MKHpOJhzzv",
        "outputId": "04679a33-39c6-479f-8c67-a7e0f7c15bdd"
      },
      "execution_count": null,
      "outputs": [
        {
          "output_type": "stream",
          "name": "stdout",
          "text": [
            "No point value assigned.\n"
          ]
        }
      ]
    },
    {
      "cell_type": "code",
      "source": [
        "kanan = {\n",
        "    'name' : 'Kanan' ,\n",
        "    'last_name' : 'Qasimzada' ,\n",
        "    'age' : 19\n",
        "}\n",
        "\n",
        "print(id(kanan))\n",
        "print(type(kanan))\n",
        "\n",
        "kanan['car'] = False\n",
        "kanan['Job'] = 'AI Developer'\n",
        "print(id(kanan))\n",
        "print(type(kanan))\n",
        "del kanan['car']\n",
        "print(kanan)\n"
      ],
      "metadata": {
        "colab": {
          "base_uri": "https://localhost:8080/"
        },
        "id": "ol8VywL5ihsm",
        "outputId": "0eb1ac30-2f6b-4c52-e9d1-34f965d889fb"
      },
      "execution_count": null,
      "outputs": [
        {
          "output_type": "stream",
          "name": "stdout",
          "text": [
            "139063348317056\n",
            "<class 'dict'>\n",
            "139063348317056\n",
            "<class 'dict'>\n",
            "{'name': 'Kanan', 'last_name': 'Qasimzada', 'age': 19, 'Job': 'AI Developer'}\n"
          ]
        }
      ]
    },
    {
      "cell_type": "code",
      "source": [
        "#Looping kry-value\n",
        "kanan = {\n",
        "    'name' : 'Kanan' ,\n",
        "    'last_name' : 'Qasimzada' ,\n",
        "    'age' : 19 ,\n",
        "    'job' : 'AI developer' ,\n",
        "    'salary' : '4000'\n",
        "}\n",
        "\n",
        "for key, value in kanan.items():\n",
        "  print(f\"\\nKey: {key}\")\n",
        "  print(f\"Value: {value}\")"
      ],
      "metadata": {
        "colab": {
          "base_uri": "https://localhost:8080/"
        },
        "id": "hqUYlNA0kYDJ",
        "outputId": "01c70831-1f85-4b9f-f14b-80f796cf4e8e"
      },
      "execution_count": null,
      "outputs": [
        {
          "output_type": "stream",
          "name": "stdout",
          "text": [
            "\n",
            "Key: name\n",
            "Value: Kanan\n",
            "\n",
            "Key: last_name\n",
            "Value: Qasimzada\n",
            "\n",
            "Key: age\n",
            "Value: 19\n",
            "\n",
            "Key: job\n",
            "Value: AI developer\n",
            "\n",
            "Key: salary\n",
            "Value: 4000\n"
          ]
        }
      ]
    },
    {
      "cell_type": "code",
      "source": [
        "#Only looping through all the keys and value in a dictionary\n",
        "kanan = {\n",
        "    'name' : 'Kanan' ,\n",
        "    'last_name' : 'Qasimzada' ,\n",
        "    'age' : 19 ,\n",
        "    'job' : 'AI developer' ,\n",
        "    'salary' : '4000'\n",
        "}\n",
        "\n",
        "for key in kanan.keys():\n",
        "  print(f\"Key:{key}\")\n",
        "\n",
        "print('\\n')\n",
        "\n",
        "for value in kanan.values():\n",
        "  print(f\"Value:{value}\")"
      ],
      "metadata": {
        "colab": {
          "base_uri": "https://localhost:8080/"
        },
        "id": "f3_KBlkQqH8M",
        "outputId": "5b41b00e-c8d9-4622-e1ea-f71bbd7af13e"
      },
      "execution_count": null,
      "outputs": [
        {
          "output_type": "stream",
          "name": "stdout",
          "text": [
            "Key:name\n",
            "Key:last_name\n",
            "Key:age\n",
            "Key:job\n",
            "Key:salary\n",
            "\n",
            "\n",
            "Value:Kanan\n",
            "Value:Qasimzada\n",
            "Value:19\n",
            "Value:AI developer\n",
            "Value:4000\n"
          ]
        }
      ]
    },
    {
      "cell_type": "code",
      "source": [
        "#A list of dictionaries\n",
        "\n",
        "k1 = {\n",
        "    'name' : 'Kanan' ,\n",
        "    'age' : 19\n",
        "}\n",
        "\n",
        "k2 = {\n",
        "    'name' : 'Sanan' ,\n",
        "    'age' : 19\n",
        "}\n",
        "\n",
        "k3 = {\n",
        "    'name' : 'Qasim' ,\n",
        "    'age' : 12\n",
        "}\n",
        "\n",
        "k = [k1, k2, k3]\n",
        "for i in k:\n",
        "  print(i)"
      ],
      "metadata": {
        "colab": {
          "base_uri": "https://localhost:8080/"
        },
        "id": "KU4TKDZnrOzx",
        "outputId": "c7c71d71-3267-4a11-e463-3f10c4aa9929"
      },
      "execution_count": null,
      "outputs": [
        {
          "output_type": "stream",
          "name": "stdout",
          "text": [
            "{'name': 'Kanan', 'age': 19}\n",
            "{'name': 'Sanan', 'age': 19}\n",
            "{'name': 'Qasim', 'age': 12}\n"
          ]
        }
      ]
    },
    {
      "cell_type": "code",
      "source": [
        "car = {\n",
        "    'model' : 'Tesla' ,\n",
        "    'year' : 2024 ,\n",
        "    'sub_models': ['S', 'Y', '3', 'X']\n",
        "}\n",
        "\n",
        "for i in car['sub_models']:\n",
        "  print(f\"Sub_model of tesla:{i}\")"
      ],
      "metadata": {
        "colab": {
          "base_uri": "https://localhost:8080/"
        },
        "id": "XN_SNFR5tB31",
        "outputId": "4164da8f-9a93-49a0-8478-e75fa0ce955b"
      },
      "execution_count": null,
      "outputs": [
        {
          "output_type": "stream",
          "name": "stdout",
          "text": [
            "Sub_model of tesla:S\n",
            "Sub_model of tesla:Y\n",
            "Sub_model of tesla:3\n",
            "Sub_model of tesla:X\n"
          ]
        }
      ]
    },
    {
      "cell_type": "code",
      "source": [
        "#Classes\n",
        "\n",
        "class Dog:\n",
        "  def __init__(self, name, age):\n",
        "    self.name = name\n",
        "    self.age = age\n",
        "\n",
        "  def sit(self):\n",
        "    print(f\"{self.name} is now sitting.\")\n",
        "\n",
        "  def roll_over(self):\n",
        "    print(f\"{self.name} rolled over!\")"
      ],
      "metadata": {
        "id": "cuubxkph6FrA"
      },
      "execution_count": null,
      "outputs": []
    },
    {
      "cell_type": "code",
      "source": [
        "class Car:\n",
        "  def __init__(self, make, model, year):\n",
        "    self.make = make\n",
        "    self.model = model\n",
        "    self.year = year\n",
        "    self.odometr_reading = 0\n",
        "\n",
        "  def get_descriptive_name(self):\n",
        "    long_name = f\"{self.year} {self.make} {self.model}\"\n",
        "    return long_name.title\n",
        "\n",
        "  def read_odometer(self):\n",
        "    print(f\"Your odometr km is {self.odometr_reading}\")\n",
        "\n",
        "  def uptade_odometer(self, milage):\n",
        "    self.odometr_reading += milage\n",
        "\n",
        "  def uptade_odometer2(self, milage2):\n",
        "    if self.odometr_reading <= milage2:\n",
        "      sefl.odometr_reading += milage2\n",
        "\n",
        "\n",
        "\n",
        "\n",
        "my_new_car = Car('audi', 'a4', 2024)\n",
        "print(my_new_car.get_descriptive_name())\n",
        "my_new_car.read_odometer()\n",
        "\n",
        "my_new_car.odometr_reading = 55\n"
      ],
      "metadata": {
        "id": "uV4JfAgX-c7I",
        "colab": {
          "base_uri": "https://localhost:8080/"
        },
        "outputId": "dc4ea33a-d5d2-4a57-d1ec-85e581af41c7"
      },
      "execution_count": 3,
      "outputs": [
        {
          "output_type": "stream",
          "name": "stdout",
          "text": [
            "<built-in method title of str object at 0x7cbf883518f0>\n",
            "Your odometr km is 0\n"
          ]
        }
      ]
    },
    {
      "cell_type": "code",
      "source": [
        "#Child class\n",
        "\n",
        "class Electric_car(Car):\n",
        "  def __init__(self, make, model, year):\n",
        "    super().__init__(make, model, year)\n",
        "\n",
        "my_leaf = Electric_car('nissan', 'leaf', 2024)\n",
        "print(my_leaf.get_descriptive_name())"
      ],
      "metadata": {
        "colab": {
          "base_uri": "https://localhost:8080/"
        },
        "id": "08bCJTt9KJSx",
        "outputId": "dd669e40-f7ed-4809-af06-b52055fb39b6"
      },
      "execution_count": 5,
      "outputs": [
        {
          "output_type": "stream",
          "name": "stdout",
          "text": [
            "<built-in method title of str object at 0x7cbf57a803f0>\n"
          ]
        }
      ]
    },
    {
      "cell_type": "code",
      "source": [
        "class Electric_car(Car):\n",
        "  def __init__(self, make, model, year):\n",
        "    super().__init__(make, model, year)\n",
        "    self.battery_size = 50\n",
        "\n",
        "  def describe_battery(self):\n",
        "    print(f\"This car has a {self.battery_size}-kWh battery.\")\n",
        "\n",
        "my_leaf = Electric_car('nissan', 'leaf', 2024)\n",
        "print(my_leaf.get_descriptive_name())\n",
        "my_leaf.describe_battery()\n",
        "\n"
      ],
      "metadata": {
        "colab": {
          "base_uri": "https://localhost:8080/"
        },
        "id": "_9lOWXEFOKOC",
        "outputId": "f165c5d1-9bcb-4ac5-c65c-6af230a6be15"
      },
      "execution_count": 8,
      "outputs": [
        {
          "output_type": "stream",
          "name": "stdout",
          "text": [
            "<built-in method title of str object at 0x7cbf57a80d50>\n",
            "This car has a 50-kWh battery.\n"
          ]
        }
      ]
    },
    {
      "cell_type": "code",
      "source": [
        "#Function\n",
        "\n",
        "def pet(type, name):\n",
        "  print(f\"type of my animal is {type} and its name is {name}\")\n",
        "\n",
        "my_cat = pet('cat', 'jessi')\n",
        "print(my_cat)\n",
        "\n",
        "my_dog = pet(name='London', type='Pitbull')"
      ],
      "metadata": {
        "colab": {
          "base_uri": "https://localhost:8080/"
        },
        "id": "JEy2YDi4Vj8O",
        "outputId": "1685a69f-0abd-47e2-db50-6e3a8399fbf9"
      },
      "execution_count": 12,
      "outputs": [
        {
          "output_type": "stream",
          "name": "stdout",
          "text": [
            "type of my animal is cat and its name is jessi\n",
            "None\n",
            "type of my animal is Pitbull and its name is London\n"
          ]
        }
      ]
    },
    {
      "cell_type": "code",
      "source": [
        "#Ente name and type with input\n",
        "def pet(type, name):\n",
        "  print(f\"type of my animal is {type} and its name is {name}\")\n",
        "\n",
        "pet_type1 = str(input('Enter type of animal'))\n",
        "pet_name1 = str(input('Enter name of aniaml'))\n",
        "\n",
        "my_cat22 = pet(type=pet_type1, name=pet_name1)\n",
        "print(my_cat22)\n"
      ],
      "metadata": {
        "colab": {
          "base_uri": "https://localhost:8080/"
        },
        "id": "p2QJ4LOzWt88",
        "outputId": "42cc9568-a3ff-4625-f08d-f404220bffff"
      },
      "execution_count": 15,
      "outputs": [
        {
          "output_type": "stream",
          "name": "stdout",
          "text": [
            "Enter type of animala\n",
            "Enter name of aniamls\n",
            "type of my animal is a and its name is s\n",
            "None\n"
          ]
        }
      ]
    },
    {
      "cell_type": "code",
      "source": [
        "#Passing an Arbitrary Number of Arguments\n",
        "\n",
        "def make_pizza(*elements):\n",
        "  print(elements)\n",
        "\n",
        "a = make_pizza('a', 'n', 'b', 't',' h')\n",
        "print(a)\n"
      ],
      "metadata": {
        "colab": {
          "base_uri": "https://localhost:8080/"
        },
        "id": "mnaV7ZMvY00p",
        "outputId": "23bcf6d7-1fea-44f1-fa23-fc02be69b017"
      },
      "execution_count": 16,
      "outputs": [
        {
          "output_type": "stream",
          "name": "stdout",
          "text": [
            "('a', 'n', 'b', 't', ' h')\n",
            "None\n"
          ]
        }
      ]
    },
    {
      "cell_type": "code",
      "source": [
        "def make_pizza(*elements):\n",
        "  for element in elements:\n",
        "    print(f'Element of pizza - {element}')\n",
        "\n",
        "a = make_pizza('a', 'n', 'b', 't',' h')\n",
        "print(a)"
      ],
      "metadata": {
        "colab": {
          "base_uri": "https://localhost:8080/"
        },
        "id": "Nu6UG7i1a_LJ",
        "outputId": "7b3b89a6-f3aa-468f-ff2b-d5607697e4ab"
      },
      "execution_count": 17,
      "outputs": [
        {
          "output_type": "stream",
          "name": "stdout",
          "text": [
            "Element of pizza - a\n",
            "Element of pizza - n\n",
            "Element of pizza - b\n",
            "Element of pizza - t\n",
            "Element of pizza -  h\n",
            "None\n"
          ]
        }
      ]
    },
    {
      "cell_type": "code",
      "source": [
        "def make_pizza(size, *elements):\n",
        "  print(f'size of pizza {size}')\n",
        "  for element in elements:\n",
        "    print(f'Element of pizza - {element}')\n",
        "\n",
        "a = make_pizza(12, 'a', 'n', 'b', 't',' h')\n",
        "print(a)"
      ],
      "metadata": {
        "colab": {
          "base_uri": "https://localhost:8080/"
        },
        "id": "iVZ-g0uMbVDL",
        "outputId": "f69fd3d2-3850-43be-84cf-b012b1e9a083"
      },
      "execution_count": 19,
      "outputs": [
        {
          "output_type": "stream",
          "name": "stdout",
          "text": [
            "size of pizza 12\n",
            "Element of pizza - a\n",
            "Element of pizza - n\n",
            "Element of pizza - b\n",
            "Element of pizza - t\n",
            "Element of pizza -  h\n",
            "None\n"
          ]
        }
      ]
    },
    {
      "cell_type": "code",
      "source": [
        "def build_profile(first, last, **user_info):\n",
        "    \"\"\"Build a dictionary containing everything we know about a user.\"\"\"\n",
        "    user_info['first_name'] = first\n",
        "    user_info['last_name'] = last\n",
        "    return user_info\n",
        "\n",
        "user_profile = build_profile('albert', 'einstein',\n",
        "                             location='princeton',\n",
        "                             field='physics')\n",
        "print(user_profile)"
      ],
      "metadata": {
        "colab": {
          "base_uri": "https://localhost:8080/"
        },
        "id": "buZgUR0sbqHr",
        "outputId": "4b320305-0662-41c3-c0ec-1167eafb79e7"
      },
      "execution_count": 23,
      "outputs": [
        {
          "output_type": "stream",
          "name": "stdout",
          "text": [
            "('albert', 'einstein', {'location': 'princeton', 'field': 'physics'})\n"
          ]
        }
      ]
    }
  ]
}