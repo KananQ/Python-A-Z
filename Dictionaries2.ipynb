{
  "nbformat": 4,
  "nbformat_minor": 0,
  "metadata": {
    "colab": {
      "provenance": []
    },
    "kernelspec": {
      "name": "python3",
      "display_name": "Python 3"
    },
    "language_info": {
      "name": "python"
    }
  },
  "cells": [
    {
      "cell_type": "code",
      "execution_count": 2,
      "metadata": {
        "id": "Jlo5KsxWYJ_5"
      },
      "outputs": [],
      "source": [
        "personal = {\n",
        "    'Name' : 'Kanan' ,\n",
        "    'Surname' : 'Qasimzada' ,\n",
        "    'Age' : 19 ,\n",
        "    'School' : 'ASOIU'\n",
        "}"
      ]
    },
    {
      "cell_type": "code",
      "source": [
        "#for print values\n",
        "print(personal['Name'])"
      ],
      "metadata": {
        "colab": {
          "base_uri": "https://localhost:8080/"
        },
        "id": "DwTNkI9XYvKX",
        "outputId": "8be02b09-8ee8-478a-9079-82bb2153287a"
      },
      "execution_count": 3,
      "outputs": [
        {
          "output_type": "stream",
          "name": "stdout",
          "text": [
            "Kanan\n"
          ]
        }
      ]
    },
    {
      "cell_type": "code",
      "source": [
        "a = personal['School']\n",
        "print(f'Universty:{a}')"
      ],
      "metadata": {
        "colab": {
          "base_uri": "https://localhost:8080/"
        },
        "id": "ZHYUEErtZQ86",
        "outputId": "f2b27d51-d460-48a3-e188-c363361dba73"
      },
      "execution_count": 7,
      "outputs": [
        {
          "output_type": "stream",
          "name": "stdout",
          "text": [
            "Universty:ASIOU\n"
          ]
        }
      ]
    },
    {
      "cell_type": "code",
      "source": [
        "#ADD element to dictionaries\n",
        "personal['car']  = False\n",
        "personal['salary'] = 4500\n",
        "print(personal)\n",
        "print(f\"Hello dear {personal['Name']}\")"
      ],
      "metadata": {
        "colab": {
          "base_uri": "https://localhost:8080/"
        },
        "id": "-OHvIRCpZ_b4",
        "outputId": "d8e19c16-2c6c-42b5-8882-a725ea8daa6e"
      },
      "execution_count": 10,
      "outputs": [
        {
          "output_type": "stream",
          "name": "stdout",
          "text": [
            "{'Name': 'Kanan', 'Surname': 'Qasimzada', 'Age': 19, 'School': 'ASIOU', 'car': False, 'salary': 4500}\n",
            "Hello dear Kanan\n"
          ]
        }
      ]
    },
    {
      "cell_type": "code",
      "source": [
        "alien_0 = {'x_position': 0, 'y_position': 25, 'speed': 'medium'}\n",
        "print(f\"Original position: {alien_0['x_position']}\")\n",
        "\n",
        "if alien_0['speed'] == 'low':\n",
        "  x = 1\n",
        "elif alien_0['speed'] == 'medium':\n",
        "  x = 2\n",
        "else:\n",
        "  x = 3\n",
        "\n",
        "alien_0['x_position'] += x\n",
        "print(f\"New position {alien_0['x_position']}\")\n",
        "\n",
        "\n",
        "\n",
        "\n",
        "\n"
      ],
      "metadata": {
        "colab": {
          "base_uri": "https://localhost:8080/"
        },
        "id": "iu6xiRptbAwS",
        "outputId": "781b33e5-ab5e-47fc-fea8-c70d0f9ad5ea"
      },
      "execution_count": 11,
      "outputs": [
        {
          "output_type": "stream",
          "name": "stdout",
          "text": [
            "Original position: 0\n",
            "New position 2\n"
          ]
        }
      ]
    },
    {
      "cell_type": "code",
      "source": [
        "#Removeing method in dictionaries\n",
        "\n",
        "alien_0 = {'color': 'green', 'points': 5}\n",
        "print(alien_0)\n",
        "\n",
        "#del method\n",
        "del alien_0['color']\n",
        "print(alien_0)\n",
        "\n",
        "#pop method\n",
        "alien_0.pop('points')\n",
        "print(alien_0)\n",
        "\n"
      ],
      "metadata": {
        "colab": {
          "base_uri": "https://localhost:8080/"
        },
        "id": "gDvqwJFnb1aW",
        "outputId": "2b7506f9-19f1-4da9-cb74-ccb292508994"
      },
      "execution_count": 13,
      "outputs": [
        {
          "output_type": "stream",
          "name": "stdout",
          "text": [
            "{'color': 'green', 'points': 5}\n",
            "{'points': 5}\n",
            "{}\n"
          ]
        }
      ]
    },
    {
      "cell_type": "code",
      "source": [
        "#get method\n",
        "\n",
        "personal = {\n",
        "    'Name' : 'Kanan' ,\n",
        "    'Surname' : 'Qasimzada' ,\n",
        "    'Age' : 19 ,\n",
        "    'School' : 'ASOIU'\n",
        "}\n",
        "\n",
        "#print(personal['a'])\n",
        "print(personal.get('a',4))\n",
        "\n",
        "\n"
      ],
      "metadata": {
        "colab": {
          "base_uri": "https://localhost:8080/"
        },
        "id": "6_WGTDnTciAA",
        "outputId": "d3513533-1692-4d14-c115-af49a0366c95"
      },
      "execution_count": 16,
      "outputs": [
        {
          "output_type": "stream",
          "name": "stdout",
          "text": [
            "4\n"
          ]
        }
      ]
    },
    {
      "cell_type": "code",
      "source": [
        "user_0 = {\n",
        "    'username': 'efermi',\n",
        "    'first': 'enrico',\n",
        "    'last': 'fermi',\n",
        "    }\n",
        "\n",
        "for i,j in user_0.items():\n",
        "  print(f'\\nKey: {i}')\n",
        "  print(f'Values: {j}')"
      ],
      "metadata": {
        "colab": {
          "base_uri": "https://localhost:8080/"
        },
        "id": "WLCEhpz6ddHI",
        "outputId": "7f24922e-7470-4a00-8c59-62420e02b56e"
      },
      "execution_count": 22,
      "outputs": [
        {
          "output_type": "stream",
          "name": "stdout",
          "text": [
            "\n",
            "Key: username\n",
            "Values: efermi\n",
            "\n",
            "Key: first\n",
            "Values: enrico\n",
            "\n",
            "Key: last\n",
            "Values: fermi\n"
          ]
        }
      ]
    },
    {
      "cell_type": "code",
      "source": [
        "favorite_languages = {\n",
        "  'jen': 'python',\n",
        "  'sarah': 'c',\n",
        "  'edward': 'rust',\n",
        "  'phil': 'python',\n",
        "  }\n",
        "\n",
        "for key in favorite_languages.keys():\n",
        "  print(f'Key:{key.title()}')\n",
        "\n",
        "print('\\n')\n",
        "\n",
        "for value in favorite_languages.values():\n",
        "  print(f'Values:{value.title()}')"
      ],
      "metadata": {
        "colab": {
          "base_uri": "https://localhost:8080/"
        },
        "id": "Ri9EMvyJeHJs",
        "outputId": "ddf8696e-ca81-49a1-f47f-36ebfb27b6db"
      },
      "execution_count": 29,
      "outputs": [
        {
          "output_type": "stream",
          "name": "stdout",
          "text": [
            "Key:Jen\n",
            "Key:Sarah\n",
            "Key:Edward\n",
            "Key:Phil\n",
            "\n",
            "\n",
            "Values:Python\n",
            "Values:C\n",
            "Values:Rust\n",
            "Values:Python\n"
          ]
        }
      ]
    },
    {
      "cell_type": "code",
      "source": [
        "favorite_languages = {\n",
        "  'jen': 'python',\n",
        "  'sarah': 'c',\n",
        "  'edward': 'rust',\n",
        "  'phil': 'python',\n",
        "  }\n",
        "\n",
        "print(favorite_languages.items())\n"
      ],
      "metadata": {
        "colab": {
          "base_uri": "https://localhost:8080/"
        },
        "id": "tsT0OyADkxCE",
        "outputId": "39e93d88-1fa4-4bfd-be92-bab20312c622"
      },
      "execution_count": 30,
      "outputs": [
        {
          "output_type": "stream",
          "name": "stdout",
          "text": [
            "dict_items([('jen', 'python'), ('sarah', 'c'), ('edward', 'rust'), ('phil', 'python')])\n"
          ]
        }
      ]
    },
    {
      "cell_type": "code",
      "source": [
        "#nested dictonaries\n",
        "\n",
        "family = {\n",
        "\n",
        "    \"child1\" : {\n",
        "        'name' : 'Alice',\n",
        "        'age' : 12\n",
        "    } ,\n",
        "\n",
        "    \"child2\" : {\n",
        "        'name' : 'Ali' ,\n",
        "        'age' : 10\n",
        "    } ,\n",
        "\n",
        "    \"child3\" : {\n",
        "        'name' : 'Jasmin' ,\n",
        "        'age' : 15\n",
        "    }\n",
        "\n",
        "}"
      ],
      "metadata": {
        "id": "ADJGHA4zmMPs"
      },
      "execution_count": null,
      "outputs": []
    },
    {
      "cell_type": "code",
      "source": [
        "#nested dictionaries\n",
        "child10 = {\n",
        "    'name' : 'A' ,\n",
        "    'age' : 22\n",
        "}\n",
        "\n",
        "child20 = {\n",
        "    'name' : 'S' ,\n",
        "    'age' : 18\n",
        "}\n",
        "\n",
        "child30 = {\n",
        "    'name' : 'D' ,\n",
        "    'age' : 34\n",
        "}\n",
        "\n",
        "\n",
        "family_table = {\n",
        "    'child10' : child10 ,\n",
        "    'child20' : child20 ,\n",
        "    'child30' : child30\n",
        "}\n",
        "\n",
        "\n",
        "#acces element\n",
        "print(family_table['child10']['name'])"
      ],
      "metadata": {
        "colab": {
          "base_uri": "https://localhost:8080/"
        },
        "id": "1FLvn4kPnEys",
        "outputId": "9bceb77e-f271-4066-aa56-96621c3e827c"
      },
      "execution_count": 31,
      "outputs": [
        {
          "output_type": "stream",
          "name": "stdout",
          "text": [
            "A\n"
          ]
        }
      ]
    }
  ]
}