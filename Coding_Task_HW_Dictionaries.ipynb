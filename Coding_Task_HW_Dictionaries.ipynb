{
  "nbformat": 4,
  "nbformat_minor": 0,
  "metadata": {
    "colab": {
      "provenance": []
    },
    "kernelspec": {
      "name": "python3",
      "display_name": "Python 3"
    },
    "language_info": {
      "name": "python"
    }
  },
  "cells": [
    {
      "cell_type": "markdown",
      "source": [
        "1) Write a program to merge two dictionaries into one. If there are overlapping keys, sum their values.\n",
        "\n",
        "2) Write a Python program to create an empty dictionary.\n",
        "\n",
        "3) Write a Python script to iterate over a dictionary and print all key-value pairs.\n",
        "\n",
        "4) Write a Python program to remove the key-value pair with key 'age' from  dictionary\n",
        "\n",
        "5) Write a program to sort a dictionary by its keys in ascending order and print the sorted dictionary.\n",
        "\n",
        "6) Given a dictionary students_scores = {'Alice': 85, 'Bob': 90}, update the score for 'Alice' to 95. If 'Charlie' does not exist in the dictionary, add 'Charlie' with a default score of 60.\n",
        "\n",
        "7) Write a Python program to print all the values in  dictionary:\n",
        "\n",
        "8) Given a dictionary item_prices = {'apple': 1.00, 'banana': 0.50}, calculate the total price of all items. Then, apply a 10% discount to all items and update the dictionary."
      ],
      "metadata": {
        "id": "e22kUXzLqnG4"
      }
    },
    {
      "cell_type": "code",
      "execution_count": 3,
      "metadata": {
        "id": "IdltApYrqmG3",
        "outputId": "917282d2-6dd5-4bed-e7f9-e45b96b39700",
        "colab": {
          "base_uri": "https://localhost:8080/"
        }
      },
      "outputs": [
        {
          "output_type": "stream",
          "name": "stdout",
          "text": [
            "{'name': 'Kanan', 'surname': 'Qasimzada', 'salary': 4500, 'position': 'AI developer', 'experinece_year': 2}\n"
          ]
        }
      ],
      "source": [
        "#TASK1\n",
        "personal1 = {\n",
        "    'name' : 'Kanan' ,\n",
        "    'surname' : 'Qasimzada' ,\n",
        "    'salary' : 4500\n",
        "}\n",
        "personal2 = {\n",
        "    'position' : 'AI developer' ,\n",
        "    'experinece_year' : 2\n",
        "}\n",
        "\n",
        "merged = {}\n",
        "\n",
        "for key in personal1:\n",
        "  if key in personal2:\n",
        "    merged[key] = personal1[key] + personal2[key]\n",
        "  else:\n",
        "    merged[key] = personal1[key]\n",
        "\n",
        "for key in personal2:\n",
        "  if key not in merged:\n",
        "    merged[key] = personal2[key]\n",
        "\n",
        "print(merged)\n",
        "\n",
        "\n",
        "\n",
        "\n",
        "\n"
      ]
    },
    {
      "cell_type": "code",
      "source": [
        "#TASK2\n",
        "#Method1\n",
        "\n",
        "a = {}\n",
        "print(a)\n",
        "\n",
        "#Method2\n",
        "b = dict()\n",
        "print(b)\n",
        "\n",
        "\n"
      ],
      "metadata": {
        "id": "XyFfMh6gyQn5",
        "outputId": "a83f271a-f983-42ff-8818-3dcaf3bfa20f",
        "colab": {
          "base_uri": "https://localhost:8080/"
        }
      },
      "execution_count": 5,
      "outputs": [
        {
          "output_type": "stream",
          "name": "stdout",
          "text": [
            "{}\n",
            "{}\n"
          ]
        }
      ]
    },
    {
      "cell_type": "code",
      "source": [
        "#Task3  Write a Python script to iterate over a dictionary and print all key-value pairs.\n",
        "\n",
        "personal = {\n",
        "    'name' : 'Kanan' ,\n",
        "    'surname' : 'Qasimzada' ,\n",
        "    'salary' : 4500 ,\n",
        "    'position' : 'AI developer' ,\n",
        "    'experinece_year' : 2,\n",
        "    'age' : 19\n",
        "}\n",
        "\n",
        "for key , value in personal.items():\n",
        "  print(f\"Key:{key} Value:{value}\")\n",
        "print('\\n')\n",
        "#2th method\n",
        "for key , value in personal.items():\n",
        "  print(f\"({key}:{value})\",end = ' ')\n"
      ],
      "metadata": {
        "id": "HiCjoQOSyfi2",
        "outputId": "e8830d81-22e7-4914-a994-37aa799a78dc",
        "colab": {
          "base_uri": "https://localhost:8080/"
        }
      },
      "execution_count": 44,
      "outputs": [
        {
          "output_type": "stream",
          "name": "stdout",
          "text": [
            "Key:name Value:Kanan\n",
            "Key:surname Value:Qasimzada\n",
            "Key:salary Value:4500\n",
            "Key:position Value:AI developer\n",
            "Key:experinece_year Value:2\n",
            "Key:age Value:19\n",
            "\n",
            "\n",
            "(name:Kanan) (surname:Qasimzada) (salary:4500) (position:AI developer) (experinece_year:2) (age:19) "
          ]
        }
      ]
    },
    {
      "cell_type": "code",
      "source": [
        "#TASK4 Write a Python program to remove the key-value pair with key 'age' from dictionary\n",
        "\n",
        "\n",
        "personal = {\n",
        "    'name' : 'Kanan' ,\n",
        "    'surname' : 'Qasimzada' ,\n",
        "    'salary' : 4500 ,\n",
        "    'position' : 'AI developer' ,\n",
        "    'experinece_year' : 2,\n",
        "    'age1' : 19 ,\n",
        "    'age2' : 20\n",
        "}\n",
        "\n",
        "#method1\n",
        "del personal['age1']\n",
        "print(personal)\n",
        "\n",
        "#method2\n",
        "personal.pop('age2')\n",
        "print(personal)\n"
      ],
      "metadata": {
        "id": "ihviNCGryejJ",
        "outputId": "04adecab-7a40-4db0-bed9-11019d56f483",
        "colab": {
          "base_uri": "https://localhost:8080/"
        }
      },
      "execution_count": 9,
      "outputs": [
        {
          "output_type": "stream",
          "name": "stdout",
          "text": [
            "{'name': 'Kanan', 'surname': 'Qasimzada', 'salary': 4500, 'position': 'AI developer', 'experinece_year': 2, 'age2': 20}\n",
            "{'name': 'Kanan', 'surname': 'Qasimzada', 'salary': 4500, 'position': 'AI developer', 'experinece_year': 2}\n"
          ]
        }
      ]
    },
    {
      "cell_type": "code",
      "source": [
        "#TASK5  Write a program to sort a dictionary by its keys in ascending order and print the sorted dictionary.\n",
        "personal = {\n",
        "    'name' : 'Kanan' ,\n",
        "    'surname' : 'Qasimzada' ,\n",
        "    'salary' : 4500 ,\n",
        "    'position' : 'AI developer' ,\n",
        "    'experinece_year' : 2,\n",
        "    'age' : 19\n",
        "}\n",
        "a = dict(sorted(personal.items()))\n",
        "print(a)"
      ],
      "metadata": {
        "id": "yRi5WVZZzz6j",
        "outputId": "5ab1bc66-ba92-4c37-ac39-b4833a6ac177",
        "colab": {
          "base_uri": "https://localhost:8080/"
        }
      },
      "execution_count": 40,
      "outputs": [
        {
          "output_type": "stream",
          "name": "stdout",
          "text": [
            "{'age': 19, 'experinece_year': 2, 'name': 'Kanan', 'position': 'AI developer', 'salary': 4500, 'surname': 'Qasimzada'}\n"
          ]
        }
      ]
    },
    {
      "cell_type": "code",
      "source": [
        "#TASK6\n",
        "\"\"\"Given a dictionary students_scores = {'Alice': 85, 'Bob': 90},\n",
        "update the score for 'Alice' to 95. If 'Charlie' does not exist in the dictionary,\n",
        "add 'Charlie' with a default score of 60.\"\"\"\n",
        "\n",
        "students_scores = {\n",
        "    'Alice': 85,\n",
        "    'Bob': 90\n",
        "    }\n",
        "#method1\n",
        "students_scores['Alice'] = 95\n",
        "\n",
        "#method2 with update method\n",
        "students_scores.update({'Alice': 95})\n",
        "print(students_scores)\n",
        "\n",
        "#method1\n",
        "if 'Charlie' not in students_scores:\n",
        "  students_scores['Charlie'] = 60\n",
        "\n",
        "#method2\n",
        "if 'Charlie' not in students_scores:\n",
        "  students_scores.update({'Charlie' : 60})\n",
        "\n",
        "print(students_scores)"
      ],
      "metadata": {
        "id": "IZxewwSv1M9Y",
        "outputId": "70f74c6f-2198-44f2-9abd-c25575b43dc1",
        "colab": {
          "base_uri": "https://localhost:8080/"
        }
      },
      "execution_count": 20,
      "outputs": [
        {
          "output_type": "stream",
          "name": "stdout",
          "text": [
            "{'Alice': 95, 'Bob': 90}\n",
            "{'Alice': 95, 'Bob': 90, 'Charlie': 60}\n"
          ]
        }
      ]
    },
    {
      "cell_type": "code",
      "source": [
        "#TASK7\n",
        "#Write a Python program to print all the values in dictionary:\n",
        "\n",
        "personal = {\n",
        "    'name' : 'Kanan' ,\n",
        "    'surname' : 'Qasimzada' ,\n",
        "    'salary' : 4500 ,\n",
        "    'position' : 'AI developer' ,\n",
        "    'experinece_year' : 2,\n",
        "    'age' : 19\n",
        "}\n",
        "k  = 0\n",
        "for i in personal.values():\n",
        "  k += 1\n",
        "  print(f\"Value{k}:{i}\")\n"
      ],
      "metadata": {
        "id": "TMxrf_LT3Lhu",
        "outputId": "8a4976d0-99a5-444d-a4d6-c11c3c5c0e5a",
        "colab": {
          "base_uri": "https://localhost:8080/"
        }
      },
      "execution_count": 39,
      "outputs": [
        {
          "output_type": "stream",
          "name": "stdout",
          "text": [
            "Value1:Kanan\n",
            "Value2:Qasimzada\n",
            "Value3:4500\n",
            "Value4:AI developer\n",
            "Value5:2\n",
            "Value6:19\n"
          ]
        }
      ]
    },
    {
      "cell_type": "code",
      "source": [
        "#TASK8\n",
        "#Given a dictionary item_prices =\n",
        "# {'apple': 1.00, 'banana': 0.50}, calculate the total price of all items. Then, apply a 10% discount to all items and update the dictionary.\n",
        "\n",
        "item_prices = {\n",
        "    'apple': 1.00,\n",
        "    'banana': 0.50\n",
        "}\n",
        "\n",
        "total_prize = 0.0\n",
        "discount = 0.10\n",
        "\n",
        "for i , j in item_prices.items():\n",
        "  total_prize += j\n",
        "  item_prices[i] = j * (1 - discount)\n",
        "\n",
        "print(item_prices)\n",
        "print(total_prize)\n",
        "\n",
        "\n"
      ],
      "metadata": {
        "id": "TUw-rbw13yh6",
        "outputId": "1be98e40-2cda-46b9-81d2-8dc26a443cf1",
        "colab": {
          "base_uri": "https://localhost:8080/"
        }
      },
      "execution_count": 36,
      "outputs": [
        {
          "output_type": "stream",
          "name": "stdout",
          "text": [
            "{'apple': 0.9, 'banana': 0.45}\n",
            "1.5\n"
          ]
        }
      ]
    }
  ]
}