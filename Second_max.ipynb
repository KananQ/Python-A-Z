{
  "nbformat": 4,
  "nbformat_minor": 0,
  "metadata": {
    "colab": {
      "provenance": []
    },
    "kernelspec": {
      "name": "python3",
      "display_name": "Python 3"
    },
    "language_info": {
      "name": "python"
    }
  },
  "cells": [
    {
      "cell_type": "code",
      "execution_count": 26,
      "metadata": {
        "id": "AOS6WFULoQql",
        "colab": {
          "base_uri": "https://localhost:8080/"
        },
        "outputId": "3173d1c5-ffdb-4dcb-e2f6-cd38650a8010"
      },
      "outputs": [
        {
          "output_type": "stream",
          "name": "stdout",
          "text": [
            "3\n",
            "1 \n",
            "1\n",
            "1\n",
            "1\n"
          ]
        }
      ],
      "source": [
        "#with for and without any function\n",
        "list1 = []\n",
        "n = int(input())\n",
        "\n",
        "for i in range(0,n):\n",
        "  element = int(input())\n",
        "  list1.append(element)\n",
        "\n",
        "max1 = max(list1)\n",
        "max2= list1[0]\n",
        "for i in list1:\n",
        "  if max2 >= list1[i] & max2 != max1:\n",
        "    max2 = list1[i]\n",
        "\n",
        "print(max2)\n"
      ]
    },
    {
      "cell_type": "markdown",
      "source": [],
      "metadata": {
        "id": "yrzQhOGnoV3M"
      }
    },
    {
      "cell_type": "code",
      "source": [
        "#with set\n",
        "set1 = {1,1,2,3,4,5,6,7}\n",
        "set1.remove(max(set1))\n",
        "print(max(set1))"
      ],
      "metadata": {
        "colab": {
          "base_uri": "https://localhost:8080/"
        },
        "id": "ZBuLo2XGCi66",
        "outputId": "593d30e0-f136-43dd-a8e5-685bd74d1002"
      },
      "execution_count": 25,
      "outputs": [
        {
          "output_type": "stream",
          "name": "stdout",
          "text": [
            "6\n"
          ]
        }
      ]
    },
    {
      "cell_type": "code",
      "source": [
        "#with find 1st max element\n",
        "list1 = []\n",
        "n = int(input())\n",
        "\n",
        "for i in range(0,n):\n",
        "  x = int(input())\n",
        "  list1.append(x)\n",
        "\n",
        "max1 = max(list1)\n",
        "\n",
        "for i in range(0,n):\n",
        "  if list1[i] == max1:\n",
        "    list1[i] = 0\n",
        "\n",
        "print(\"\\n\",\"Second max element of list:\",max(list1))\n",
        "\n",
        "\n"
      ],
      "metadata": {
        "colab": {
          "base_uri": "https://localhost:8080/"
        },
        "id": "LuwQn5g_D4nP",
        "outputId": "2fd020d9-34cc-4942-e2e0-148715cda45b"
      },
      "execution_count": 31,
      "outputs": [
        {
          "output_type": "stream",
          "name": "stdout",
          "text": [
            "4\n",
            "2\n",
            "2\n",
            "3\n",
            "4\n",
            "\n",
            " Second max element of list 3\n"
          ]
        }
      ]
    }
  ]
}