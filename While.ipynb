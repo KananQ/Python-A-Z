{
  "nbformat": 4,
  "nbformat_minor": 0,
  "metadata": {
    "colab": {
      "provenance": []
    },
    "kernelspec": {
      "name": "python3",
      "display_name": "Python 3"
    },
    "language_info": {
      "name": "python"
    }
  },
  "cells": [
    {
      "cell_type": "code",
      "execution_count": 1,
      "metadata": {
        "colab": {
          "base_uri": "https://localhost:8080/"
        },
        "id": "ifkm1Is0z87H",
        "outputId": "1d1a70a2-d343-4679-811d-5314dd46f354"
      },
      "outputs": [
        {
          "output_type": "stream",
          "name": "stdout",
          "text": [
            "0\n",
            "1\n",
            "2\n",
            "3\n",
            "4\n",
            "5\n",
            "6\n",
            "7\n",
            "8\n",
            "9\n",
            "10\n"
          ]
        }
      ],
      "source": [
        "#while loop\n",
        "\n",
        "current_number = 0\n",
        "\n",
        "while current_number < 11:\n",
        "  print(current_number)\n",
        "  current_number += 1"
      ]
    },
    {
      "cell_type": "code",
      "source": [
        "#example while\n",
        "\n",
        "prompt = \"\\nTell me something, and I will repeat it back to you:\"\n",
        "prompt += \"\\nEnter 'quit' to end the program. \"\n",
        "message = ''\n",
        "while message != 'quit':\n",
        "  message = input(prompt)\n",
        "\n",
        "  if message == 'quit':\n",
        "    print('Quit system')\n",
        "  else:\n",
        "    print('Your message:',message)\n",
        "\n"
      ],
      "metadata": {
        "colab": {
          "base_uri": "https://localhost:8080/"
        },
        "id": "CzFhAks50VMt",
        "outputId": "460be0be-e15f-435d-f280-1073c0c319db"
      },
      "execution_count": 7,
      "outputs": [
        {
          "output_type": "stream",
          "name": "stdout",
          "text": [
            "\n",
            "Tell me something, and I will repeat it back to you:\n",
            "Enter 'quit' to end the program. salam\n",
            "Your message: salam\n",
            "\n",
            "Tell me something, and I will repeat it back to you:\n",
            "Enter 'quit' to end the program. quit\n",
            "Quit system\n"
          ]
        }
      ]
    },
    {
      "cell_type": "code",
      "source": [
        "#Using flag\n",
        "\n",
        "prompt = \"\\nTell me something, and I will repeat it back to you:\"\n",
        "prompt += \"\\nEnter 'quit' to end the program. \"\n",
        "\n",
        "active = True\n",
        "while active: # 1\n",
        "  message = input(prompt)\n",
        "\n",
        "  if message == 'quit':\n",
        "    active = False\n",
        "  else:\n",
        "    print(message)\n",
        "\n",
        "\n"
      ],
      "metadata": {
        "id": "yt_O5uZP0VJY"
      },
      "execution_count": null,
      "outputs": []
    },
    {
      "cell_type": "code",
      "source": [
        "#Using break to Exit a Loop\n",
        "\n",
        "prompt = \"\\nPlease enter the name of a city you have visited:\"\n",
        "prompt += \"\\n(Enter 'quit' when you are finished.) \"\n",
        "\n",
        "while True: # 1\n",
        "  city = input(prompt)\n",
        "\n",
        "  if city == 'quit':\n",
        "    print('System out')\n",
        "    break\n",
        "  else:\n",
        "    print(f\"I'd love to go to {city.title()}!\")\n",
        "\n"
      ],
      "metadata": {
        "colab": {
          "base_uri": "https://localhost:8080/"
        },
        "id": "MrzMraLf1530",
        "outputId": "f895b1d1-8ed4-4b0a-ee1d-6d17109b64c1"
      },
      "execution_count": 9,
      "outputs": [
        {
          "output_type": "stream",
          "name": "stdout",
          "text": [
            "\n",
            "Please enter the name of a city you have visited:\n",
            "(Enter 'quit' when you are finished.) Baku\n",
            "I'd love to go to Baku!\n",
            "\n",
            "Please enter the name of a city you have visited:\n",
            "(Enter 'quit' when you are finished.) quit\n",
            "System out\n"
          ]
        }
      ]
    },
    {
      "cell_type": "code",
      "source": [
        "#Using continue in a Loop\n",
        "\n",
        "current_number = 0\n",
        "while current_number < 10:\n",
        "  current_number += 1 # 1\n",
        "  if current_number % 2 == 0:\n",
        "    continue\n",
        "\n",
        "  print(current_number)\n",
        ""
      ],
      "metadata": {
        "colab": {
          "base_uri": "https://localhost:8080/"
        },
        "id": "Bzr1aXtA2LbL",
        "outputId": "97a5f9f8-9aa3-44f4-9837-181844857725"
      },
      "execution_count": 10,
      "outputs": [
        {
          "output_type": "stream",
          "name": "stdout",
          "text": [
            "1\n",
            "3\n",
            "5\n",
            "7\n",
            "9\n"
          ]
        }
      ]
    },
    {
      "cell_type": "code",
      "source": [
        "# Start with users that need to be verified,\n",
        "# and an empty list to hold confirmed users.\n",
        "unconfirmed_users = ['alice', 'brian', 'candace'] # 1\n",
        "confirmed_users = []\n",
        "# Verify each user until there are no more unconfirmed users.\n",
        "# Move each verified user into the list of confirmed users.\n",
        "\n",
        "while unconfirmed_users: # 2\n",
        "  current_user = unconfirmed_users.pop() # 3\n",
        "  print(f\"Verifying user: {current_user.title()}\")\n",
        "  confirmed_users.append(current_user) # 4\n",
        "\n",
        "# Display all confirmed users.\n",
        "print(\"\\nThe following users have been confirmed:\")\n",
        "for confirmed_user in confirmed_users:\n",
        "  print(confirmed_user.title())"
      ],
      "metadata": {
        "colab": {
          "base_uri": "https://localhost:8080/"
        },
        "id": "Xkkg0Hee2ZoB",
        "outputId": "fe37aa00-125d-46cc-df5b-f45c7e239a47"
      },
      "execution_count": 11,
      "outputs": [
        {
          "output_type": "stream",
          "name": "stdout",
          "text": [
            "Verifying user: Candace\n",
            "Verifying user: Brian\n",
            "Verifying user: Alice\n",
            "\n",
            "The following users have been confirmed:\n",
            "Candace\n",
            "Brian\n",
            "Alice\n"
          ]
        }
      ]
    },
    {
      "cell_type": "code",
      "source": [
        "#delete some with while\n",
        "\n",
        "pets = ['cat' , 'cat' , 'cat' , 'dog' , 'dog' , 'dog']\n",
        "\n",
        "while 'cat' in pets:\n",
        "  pets.remove('cat')\n",
        "\n",
        "print(pets)\n",
        "\n",
        "\n"
      ],
      "metadata": {
        "colab": {
          "base_uri": "https://localhost:8080/"
        },
        "id": "DZ5PvViw4BDh",
        "outputId": "31b81ee8-7230-43a0-f37c-4377a822abf4"
      },
      "execution_count": 13,
      "outputs": [
        {
          "output_type": "stream",
          "name": "stdout",
          "text": [
            "['dog', 'dog', 'dog']\n"
          ]
        }
      ]
    }
  ]
}