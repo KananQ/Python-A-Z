{
  "nbformat": 4,
  "nbformat_minor": 0,
  "metadata": {
    "colab": {
      "provenance": []
    },
    "kernelspec": {
      "name": "python3",
      "display_name": "Python 3"
    },
    "language_info": {
      "name": "python"
    }
  },
  "cells": [
    {
      "cell_type": "code",
      "execution_count": 1,
      "metadata": {
        "colab": {
          "base_uri": "https://localhost:8080/"
        },
        "id": "dHN6SwOix770",
        "outputId": "b3a949be-7bb9-411e-d1f3-51867686a2e5"
      },
      "outputs": [
        {
          "output_type": "stream",
          "name": "stdout",
          "text": [
            "Lets enter input:Salam\n",
            "Output: Salam\n"
          ]
        }
      ],
      "source": [
        "#input() function\n",
        "\n",
        "a = input('Lets enter input:')\n",
        "print(\"Output:\",a)"
      ]
    },
    {
      "cell_type": "code",
      "source": [
        "#clear prompts\n",
        "\n",
        "a = input('Lets enter name:')\n",
        "print(f\"\\nName:{a}\")\n",
        "\n",
        "\n"
      ],
      "metadata": {
        "colab": {
          "base_uri": "https://localhost:8080/"
        },
        "id": "lCNZZz6tyb4Y",
        "outputId": "16aa9b98-7d60-49de-8a62-b9cb5f0659b4"
      },
      "execution_count": 3,
      "outputs": [
        {
          "output_type": "stream",
          "name": "stdout",
          "text": [
            "Lets enter name:Anna\n",
            "\n",
            "Name:Anna\n"
          ]
        }
      ]
    },
    {
      "cell_type": "code",
      "source": [
        "prompt = \"If you share your name, we can personalize the messages you see.\"\n",
        "prompt += \"\\nWhat is your first name? \"\n",
        "name = input(prompt)\n",
        "print(f\"\\nHello, {name}!\")"
      ],
      "metadata": {
        "colab": {
          "base_uri": "https://localhost:8080/"
        },
        "id": "XUV3HRZny4tF",
        "outputId": "8fa9cb02-6e74-43f0-eb8b-03a9f90352aa"
      },
      "execution_count": 4,
      "outputs": [
        {
          "output_type": "stream",
          "name": "stdout",
          "text": [
            "If you share your name, we can personalize the messages you see.\n",
            "What is your first name? Kanan\n",
            "\n",
            "Hello, Kanan!\n"
          ]
        }
      ]
    },
    {
      "cell_type": "code",
      "source": [
        "#int() function enter numerical input\n",
        "\n",
        "age = input()\n",
        "print(type(age),age)\n",
        "\n",
        "age1 = int(input())\n",
        "print(type(age1),age1)\n"
      ],
      "metadata": {
        "colab": {
          "base_uri": "https://localhost:8080/"
        },
        "id": "Tn1qMGbszAwv",
        "outputId": "3249a2cb-333b-430c-b1de-ee890faada69"
      },
      "execution_count": 7,
      "outputs": [
        {
          "output_type": "stream",
          "name": "stdout",
          "text": [
            "12\n",
            "<class 'str'> 12\n",
            "12\n",
            "<class 'int'> 12\n"
          ]
        }
      ]
    }
  ]
}