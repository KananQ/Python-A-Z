{
  "nbformat": 4,
  "nbformat_minor": 0,
  "metadata": {
    "colab": {
      "provenance": []
    },
    "kernelspec": {
      "name": "python3",
      "display_name": "Python 3"
    },
    "language_info": {
      "name": "python"
    }
  },
  "cells": [
    {
      "cell_type": "markdown",
      "source": [
        "1) Write a program that takes a day of the week as input (e.g., \"Monday\", \"Tuesday\") and prints whether it is a weekday or a weekend."
      ],
      "metadata": {
        "id": "Z9kmhge2flJv"
      }
    },
    {
      "cell_type": "markdown",
      "source": [
        "2) Write a program that classifies the temperature based on the following criteria:\n",
        "If the temperature is below -50°C or above 50°C, classify it as \"Extreme\".\n",
        "\n",
        "If the temperature is between -50°C and -20°C, classify it as \"Very Cold\".\n",
        "\n",
        "If the temperature is between -20°C and 0°C, classify it as \"Cold\".\n",
        "\n",
        "If the temperature is between 0°C and 20°C, classify it as \"Moderate\".\n",
        "\n",
        "If the temperature is between 20°C and 35°C, classify it as \"Warm\".\n",
        "\n",
        "If the temperature is between 35°C and 50°C, classify it as \"Hot\".\n",
        "\n",
        "Additionally, if the temperature is below freezing (0°C), print a warning message for potential frostbite.\n",
        "\n",
        "If the temperature is above 35°C, print a warning message for potential heatstroke."
      ],
      "metadata": {
        "id": "5e3OCcYCfoUC"
      }
    },
    {
      "cell_type": "markdown",
      "source": [
        "3) Write a program that validates a username and password based on the following criteria:\n",
        "The username must be at least 5 characters long.\n",
        "\n",
        "The password must be at least 8 characters long and must contain at least one digit.\n",
        "\n",
        "If both conditions are met, print \"Login successful\".\n",
        "\n",
        "If the username is too short, print \"Username is too short\".\n",
        "\n",
        "If the password is too short or lacks a digit, print \"Password is invalid\"."
      ],
      "metadata": {
        "id": "gr7zi8CogC7R"
      }
    },
    {
      "cell_type": "markdown",
      "source": [
        "4) Write a program that calculates the total price of items after applying discounts based on the following criteria:\n",
        "If the total price is above $500, apply a 10% discount.\n",
        "\n",
        "If the total price is above $1000, apply an additional 5% discount (total 15%).\n",
        "\n",
        "If the total price is below $100, add a 10 dollar shipping fee.\n",
        "\n",
        "Print the final price."
      ],
      "metadata": {
        "id": "divRCLC7gHIy"
      }
    },
    {
      "cell_type": "markdown",
      "source": [
        "5) 5. Write a program that converts a numerical grade (0-100) into a letter grade based on the following criteria:\n",
        "\n",
        "90-100: A\n",
        "\n",
        "80-89: B\n",
        "\n",
        "70-79: C\n",
        "\n",
        "60-69: D\n",
        "\n",
        "Below 60: F\n",
        "\n",
        "If the grade is not within the 0-100 range, print \"Invalid grade\".\n",
        "\n",
        "Print the corresponding letter grade."
      ],
      "metadata": {
        "id": "hS_ikSKbgMTB"
      }
    },
    {
      "cell_type": "markdown",
      "source": [
        "6) 6. Write a program that calculates the price of a movie ticket based on the age of the customer and the day of the week:\n",
        "\n",
        "Children under 12 years old get a 50% discount on weekdays.\n",
        "\n",
        "Seniors (65 years and older) get a 30% discount on weekdays.\n",
        "\n",
        "No discounts are applied on weekends.\n",
        "\n",
        "The base price of a ticket is $15.\n",
        "\n",
        "Print the final ticket price."
      ],
      "metadata": {
        "id": "5xQOuTcggN9w"
      }
    },
    {
      "cell_type": "markdown",
      "source": [
        "7) 7. Write a program that takes a person's age as input and classifies them into one of the following age groups:\n",
        "\n",
        "\"Infant\" (0-1 years)\n",
        "\n",
        "\"Child\" (2-12 years)\n",
        "\n",
        "\"Teenager\" (13-19 years)\n",
        "\n",
        "\"Adult\" (20-64 years)\n",
        "\n",
        "\"Senior\" (65 years and older)"
      ],
      "metadata": {
        "id": "K6Hhm9ANgWbb"
      }
    },
    {
      "cell_type": "code",
      "execution_count": 47,
      "metadata": {
        "id": "JcB7p50Mfj81",
        "colab": {
          "base_uri": "https://localhost:8080/"
        },
        "outputId": "d4c949b9-83a3-41c4-e915-5975fe1595da"
      },
      "outputs": [
        {
          "output_type": "stream",
          "name": "stdout",
          "text": [
            "Enter day of week:Monday\n",
            "Monday is weekday\n"
          ]
        }
      ],
      "source": [
        "#TASK1 Write a program that takes a day of the week as input (e.g., \"Monday\", \"Tuesday\") and prints whether it is a weekday or a weekend\n",
        "\n",
        "day = str(input(\"Enter day of week:\"))\n",
        "\n",
        "if day in ('Monday','Tuesday','Wednesday','Thursday','Friday'):\n",
        "  print(f\"{day} is weekday\")\n",
        "elif day in ('Saturday','Sunday'):\n",
        "  print(f\"{day} is weekend\")\n",
        "else:\n",
        "  print(\"Enter correct name of day\")\n"
      ]
    },
    {
      "cell_type": "code",
      "source": [
        "#TASK2\n",
        "\"\"\" Write a program that classifies the temperature based on the following criteria: If the temperature is below -50°C or above 50°C, classify it as \"Extreme\".\n",
        "\n",
        "If the temperature is between -50°C and -20°C, classify it as \"Very Cold\".\n",
        "\n",
        "If the temperature is between -20°C and 0°C, classify it as \"Cold\".\n",
        "\n",
        "If the temperature is between 0°C and 20°C, classify it as \"Moderate\".\n",
        "\n",
        "If the temperature is between 20°C and 35°C, classify it as \"Warm\".\n",
        "\n",
        "If the temperature is between 35°C and 50°C, classify it as \"Hot\".\n",
        "\n",
        "Additionally, if the temperature is below freezing (0°C), print a warning message for potential frostbite.\n",
        "\n",
        "If the temperature is above 35°C, print a warning message for potential heatstroke.\"\"\"\n",
        "\n",
        "#Code part\n",
        "\n",
        "t = int(input(\"Enter temperature:\"))\n",
        "\n",
        "\n",
        "if (t >= -50) and (t <= -20):\n",
        "  print(\"Very Cold\")\n",
        "elif (t > -20 ) and (t <= 0):\n",
        "  print(\"Cold\")\n",
        "elif (t > 0 ) and (t <= 20):\n",
        "  print(\"Moderate\")\n",
        "elif (t > 20) and (t <= 35):\n",
        "  print(\"Warm\")\n",
        "elif (t > 35) and (t <= 50):\n",
        "  print(\"Hot\")\n",
        "elif (t < -50) or (t > 50):\n",
        "  print(\"Extreme\")\n",
        "\n",
        "if (t < 0):\n",
        "  print(\"Warning message:otential frostbite\")\n",
        "if (t > 35):\n",
        "  print(\"Warning message:Potential heatstroke\")\n"
      ],
      "metadata": {
        "colab": {
          "base_uri": "https://localhost:8080/"
        },
        "id": "rIm9BIOKEoDX",
        "outputId": "50572bf4-193c-4c98-eb43-49d24bc9f90b"
      },
      "execution_count": 16,
      "outputs": [
        {
          "output_type": "stream",
          "name": "stdout",
          "text": [
            "Enter temperature:-23\n",
            "Very Cold\n",
            "Warning message:otential frostbite\n"
          ]
        }
      ]
    },
    {
      "cell_type": "code",
      "source": [
        "#TASK3\n",
        "\"\"\" Write a program that validates a username and password based on the following criteria: The username must be at least 5 characters long.\n",
        "\n",
        "The password must be at least 8 characters long and must contain at least one digit.\n",
        "\n",
        "If both conditions are met, print \"Login successful\".\n",
        "\n",
        "If the username is too short, print \"Username is too short\".\n",
        "\n",
        "If the password is too short or lacks a digit, print \"Password is invalid\".\"\"\"\n",
        "\n",
        "name = str(input('Enter username:'))\n",
        "password = str(input('Enter password:'))\n",
        "check_point = 0\n",
        "\n",
        "if (len(name )) >= 5 :\n",
        "  check_point += 1\n",
        "else:\n",
        "  print(\"Username is too short\")\n",
        "\n",
        "for i in password:\n",
        "  if i in ('0','1','2','3','4','5','6','7','8','9'):\n",
        "    check_point += 1\n",
        "    break\n",
        "\n",
        "if (len(password) >= 8):\n",
        "  check_point += 1\n",
        "elif (len(password ) < 8) or check_point - 1 == 0:\n",
        "  print(\"Password is invalid\")\n",
        "\n",
        "if (check_point >= 3):\n",
        "  print('Login successful')"
      ],
      "metadata": {
        "colab": {
          "base_uri": "https://localhost:8080/"
        },
        "id": "VeGGCf3_FrSL",
        "outputId": "96343304-0310-40b2-a4f3-b9fc91c30782"
      },
      "execution_count": 30,
      "outputs": [
        {
          "output_type": "stream",
          "name": "stdout",
          "text": [
            "Enter username:sa\n",
            "Enter password:123\n",
            "Username is too short\n",
            "Password is invalid\n"
          ]
        }
      ]
    },
    {
      "cell_type": "code",
      "source": [
        "#TASK4\n",
        "\"\"\" Write a program that calculates the total price of items after applying discounts based on the following criteria: If the total price is above $500, apply a 10% discount.\n",
        "\n",
        "If the total price is above $1000, apply an additional 5% discount (total 15%).\n",
        "\n",
        "If the total price is below $100, add a 10 dollar shipping fee.\n",
        "\n",
        "Print the final price.\"\"\"\n",
        "\n",
        "price = int(input(\"Enter price:\"))\n",
        "discount = 0.0\n",
        "if (price <= 100):\n",
        "  total_price = price + 10\n",
        "  discount = 0.0\n",
        "elif (price >= 500 ) and (price < 1000):\n",
        "  discount = 0.10\n",
        "  total_price = (price * (1-discount))\n",
        "elif (price >= 1000):\n",
        "  discount = 0.15\n",
        "  total_price = (price * (1-discount))\n",
        "\n",
        "\n",
        "\n",
        "print(\"Total_price:\",total_price)\n",
        "\n",
        "\n"
      ],
      "metadata": {
        "colab": {
          "base_uri": "https://localhost:8080/"
        },
        "id": "HYT7AhSMIjfd",
        "outputId": "6dc0c11d-c14d-499e-8109-19db29728254"
      },
      "execution_count": 55,
      "outputs": [
        {
          "output_type": "stream",
          "name": "stdout",
          "text": [
            "Enter price:1100\n",
            "Total_price: 935.0\n"
          ]
        }
      ]
    },
    {
      "cell_type": "code",
      "source": [
        "#TASK5\n",
        "\"\"\" 5. Write a program that converts a numerical grade (0-100) into a letter grade based on the following criteria:\n",
        "\n",
        "90-100: A\n",
        "\n",
        "80-89: B\n",
        "\n",
        "70-79: C\n",
        "\n",
        "60-69: D\n",
        "\n",
        "Below 60: F\n",
        "\n",
        "If the grade is not within the 0-100 range, print \"Invalid grade\".\n",
        "\n",
        "Print the corresponding letter grade.\"\"\"\n",
        "\n",
        "grade = int(input(\"Enter grade:\"))\n",
        "\n",
        "if (grade < 0) & (grade > 100):\n",
        "  print(\"Invalid grade\")\n",
        "elif (grade >= 90) and (grade <= 100):\n",
        "  print(\"A\")\n",
        "elif (grade >= 80) and (grade <= 89):\n",
        "  print(\"B\")\n",
        "elif (grade >= 70) and (grade <= 79):\n",
        "  print(\"B\")\n",
        "elif (grade >= 60) and (grade <= 69):\n",
        "  print(\"D\")\n",
        "elif  (grade <= 60):\n",
        "  print(\"F\")\n",
        "else:\n",
        "  print(\"Invalid grade\")\n"
      ],
      "metadata": {
        "colab": {
          "base_uri": "https://localhost:8080/"
        },
        "id": "GTZBbo0YMfn4",
        "outputId": "054ea813-935d-4790-e024-bfe50097bfec"
      },
      "execution_count": 57,
      "outputs": [
        {
          "output_type": "stream",
          "name": "stdout",
          "text": [
            "Enter grade:110\n",
            "Invalid grade\n"
          ]
        }
      ]
    },
    {
      "cell_type": "code",
      "source": [
        "#TASK6\n",
        "\"\"\"6. Write a program that calculates the price of a movie ticket based on the age of the customer and the day of the week:\n",
        "\n",
        "Children under 12 years old get a 50% discount on weekdays.\n",
        "\n",
        "Seniors (65 years and older) get a 30% discount on weekdays.\n",
        "\n",
        "No discounts are applied on weekends.\n",
        "\n",
        "The base price of a ticket is $15.\n",
        "\n",
        "Print the final ticket price.\"\"\"\n",
        "\n",
        "day = str(input(\"Enter day of week:\"))\n",
        "age = int(input(\"Enter age:\"))\n",
        "price = 15.0\n",
        "discount = 0.0\n",
        "\n",
        "if day in ('Monday','Tuesday','Wednesday','Thursday','Friday'):\n",
        "  sale = 1\n",
        "elif day in ('Saturday','Sunday'):\n",
        "  sale = 0\n",
        "\n",
        "\n",
        "if sale == 0:\n",
        "  print(\"No discounts are applied on weekends\")\n",
        "  last_price = 15.0\n",
        "elif sale == 1:\n",
        "  if (age <= 12):\n",
        "    discount = 0.50\n",
        "  elif(age >= 65):\n",
        "    discount = 0.30\n",
        "\n",
        "print(\"Price:\",price * (1 - discount))\n"
      ],
      "metadata": {
        "colab": {
          "base_uri": "https://localhost:8080/"
        },
        "id": "kpAtlvkNN7uk",
        "outputId": "15b390f8-6e7a-4261-fc83-df9695ddd023"
      },
      "execution_count": 45,
      "outputs": [
        {
          "output_type": "stream",
          "name": "stdout",
          "text": [
            "Enter day of week:Monday\n",
            "Enter age:11\n",
            "1\n",
            "Price: 7.5\n"
          ]
        }
      ]
    },
    {
      "cell_type": "code",
      "source": [
        "#TASK7\n",
        "\"\"\" 7. Write a program that takes a person's age as input and classifies them into one of the following age groups:\n",
        "\n",
        "\"Infant\" (0-1 years)\n",
        "\n",
        "\"Child\" (2-12 years)\n",
        "\n",
        "\"Teenager\" (13-19 years)\n",
        "\n",
        "\"Adult\" (20-64 years)\n",
        "\n",
        "\"Senior\" (65 years and older)\"\"\"\n",
        "\n",
        "age = int(input(\"Enter age:\"))\n",
        "\n",
        "if (age >= 0) and (age <= 1):\n",
        "  print(\"Infant\")\n",
        "elif (age >= 2) and (age <= 12):\n",
        "  print(\"Child\")\n",
        "elif (age >= 13) and (age <= 19):\n",
        "  print(\"Teenager\")\n",
        "elif (age >= 20) and (age <= 64):\n",
        "  print(\"Adult\")\n",
        "elif (age >= 65):\n",
        "  print(\"Senior\")"
      ],
      "metadata": {
        "colab": {
          "base_uri": "https://localhost:8080/"
        },
        "id": "ivzxkNXNQ1yf",
        "outputId": "0938b049-bae1-4ca7-97c0-e30041b78185"
      },
      "execution_count": 46,
      "outputs": [
        {
          "output_type": "stream",
          "name": "stdout",
          "text": [
            "Enter age:34\n",
            "Adult\n"
          ]
        }
      ]
    }
  ]
}